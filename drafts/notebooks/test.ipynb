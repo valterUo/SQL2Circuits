{
 "cells": [
  {
   "cell_type": "code",
   "execution_count": 1,
   "id": "b53d8ccc-180e-4902-8034-c1a44899feed",
   "metadata": {},
   "outputs": [
    {
     "name": "stdout",
     "output_type": "stream",
     "text": [
      "Whole parse tree: \n",
      "(parse (sql_stmt_list (sql_stmt (select_stmt (select_core SELECT (result_column (expr (function_name (any_name MIN)) ( (expr (table_name (any_name n)) . (column_name (any_name name))) )) AS (column_alias cast_member_name)) , (result_column (expr (function_name (any_name MIN)) ( (expr (table_name (any_name pi)) . (column_name (any_name info))) )) AS (column_alias cast_member_info)) FROM (table_or_subquery (table_name (any_name aka_name)) AS (table_alias (any_name an))) , (table_or_subquery (table_name (any_name cast_info)) AS (table_alias (any_name ci))) , (table_or_subquery (table_name (any_name info_type)) AS (table_alias (any_name it))) , (table_or_subquery (table_name (any_name link_type)) AS (table_alias (any_name lt))) , (table_or_subquery (table_name (any_name movie_link)) AS (table_alias (any_name ml))) , (table_or_subquery (table_name (any_name name)) AS (table_alias (any_name n))) , (table_or_subquery (table_name (any_name person_info)) AS (table_alias (any_name pi))) , (table_or_subquery (table_name (any_name title)) AS (table_alias (any_name t))) WHERE (expr (expr (expr (expr (expr (expr (expr (expr (expr (expr (expr (expr (expr (expr (expr (expr (expr (expr (expr (expr (expr (expr (table_name (any_name an)) . (column_name (any_name name))) IS (expr (unary_operator NOT) (expr (literal_value NULL)))) AND (expr ( (expr (expr (expr (table_name (any_name an)) . (column_name (any_name name))) LIKE (expr (literal_value '%a%'))) OR (expr (expr (table_name (any_name an)) . (column_name (any_name name))) LIKE (expr (literal_value 'A%')))) ))) AND (expr (expr (table_name (any_name it)) . (column_name (any_name info))) = (expr (literal_value 'mini biography')))) AND (expr (expr (table_name (any_name lt)) . (column_name (any_name link))) IN (expr ( (expr (literal_value 'references')) , (expr (literal_value 'referenced in')) , (expr (literal_value 'features')) , (expr (literal_value 'featured in')) )))) AND (expr (expr (table_name (any_name n)) . (column_name (any_name name_pcode_cf))) >= (expr (literal_value 'A')))) AND (expr (expr (table_name (any_name n)) . (column_name (any_name name_pcode_cf))) <= (expr (literal_value 'F')))) AND (expr ( (expr (expr (expr (table_name (any_name n)) . (column_name (any_name gender))) = (expr (literal_value 'm'))) OR (expr ( (expr (expr (expr (table_name (any_name n)) . (column_name (any_name gender))) = (expr (literal_value 'f'))) AND (expr (expr (table_name (any_name n)) . (column_name (any_name name))) LIKE (expr (literal_value 'A%')))) ))) ))) AND (expr (expr (table_name (any_name pi)) . (column_name (any_name note))) IS (expr (unary_operator NOT) (expr (literal_value NULL))))) AND (expr (expr (table_name (any_name t)) . (column_name (any_name production_year))) >= (expr (literal_value 1980)))) AND (expr (expr (table_name (any_name t)) . (column_name (any_name production_year))) <= (expr (literal_value 2010)))) AND (expr (expr (table_name (any_name n)) . (column_name (any_name id))) = (expr (table_name (any_name an)) . (column_name (any_name person_id))))) AND (expr (expr (table_name (any_name n)) . (column_name (any_name id))) = (expr (table_name (any_name pi)) . (column_name (any_name person_id))))) AND (expr (expr (table_name (any_name ci)) . (column_name (any_name person_id))) = (expr (table_name (any_name n)) . (column_name (any_name id))))) AND (expr (expr (table_name (any_name t)) . (column_name (any_name id))) = (expr (table_name (any_name ci)) . (column_name (any_name movie_id))))) AND (expr (expr (table_name (any_name ml)) . (column_name (any_name linked_movie_id))) = (expr (table_name (any_name t)) . (column_name (any_name id))))) AND (expr (expr (table_name (any_name lt)) . (column_name (any_name id))) = (expr (table_name (any_name ml)) . (column_name (any_name link_type_id))))) AND (expr (expr (table_name (any_name it)) . (column_name (any_name id))) = (expr (table_name (any_name pi)) . (column_name (any_name info_type_id))))) AND (expr (expr (table_name (any_name pi)) . (column_name (any_name person_id))) = (expr (table_name (any_name an)) . (column_name (any_name person_id))))) AND (expr (expr (table_name (any_name pi)) . (column_name (any_name person_id))) = (expr (table_name (any_name ci)) . (column_name (any_name person_id))))) AND (expr (expr (table_name (any_name an)) . (column_name (any_name person_id))) = (expr (table_name (any_name ci)) . (column_name (any_name person_id))))) AND (expr (expr (table_name (any_name ci)) . (column_name (any_name movie_id))) = (expr (table_name (any_name ml)) . (column_name (any_name linked_movie_id)))))))) ;) <EOF>)\n"
     ]
    }
   ],
   "source": [
    "# Testing purposes\n",
    "\n",
    "from antlr4 import *\n",
    "from SQLiteLexer import SQLiteLexer\n",
    "from SQLiteParser import SQLiteParser\n",
    "from SQLiteParserListener import SQLiteParserListener\n",
    "import json\n",
    "import os\n",
    "import glob\n",
    "from pathlib import Path\n",
    "from discopy.utils import dumps\n",
    "this_folder = os.path.abspath(os.getcwd())\n",
    "\n",
    "path = this_folder + \"\\\\join-order-benchmark-queries\\\\7c.sql\"\n",
    "#path = this_folder + \"\\\\simple_examples\\\\sql3.sql\"\n",
    "\n",
    "input_stream = FileStream(path)\n",
    "lexer = SQLiteLexer(input_stream)\n",
    "stream = CommonTokenStream(lexer)\n",
    "parser = SQLiteParser(stream)\n",
    "tree = parser.parse()\n",
    "\n",
    "print(\"Whole parse tree: \")\n",
    "print(tree.toStringTree(recog=parser))\n",
    "\n",
    "base_name = \"sql3\"\n",
    "input_stream = FileStream(path)\n",
    "lexer = SQLiteLexer(input_stream)\n",
    "stream = CommonTokenStream(lexer)\n",
    "parser = SQLiteParser(stream)\n",
    "tree = parser.parse()\n",
    "walker = ParseTreeWalker()\n",
    "listener = SQLiteParserListener(parser)\n",
    "walker.walk(listener, tree)\n",
    "diagram = listener.get_final_diagram()\n",
    "diagram.draw(figsize=(100, 100), path = this_folder + \"\\\\\" + base_name + \".png\")\n",
    "with open(this_folder + \"\\\\\" + base_name + \".json\", 'w') as outfile:\n",
    "    json.dump(dumps(diagram), outfile)"
   ]
  },
  {
   "cell_type": "code",
   "execution_count": 2,
   "id": "bf6ad981-7ecc-4592-8376-3924da7e4ba9",
   "metadata": {},
   "outputs": [],
   "source": [
    "from tree import Tree\n",
    "from discopy import Ty, Box\n",
    "\n",
    "tree = Tree('parse', Ty('statement'), 1)\n",
    "#subtree = Tree('sql_stmt', Ty('statement'), 1)\n",
    "#tree.append_to_tree(subtree)\n",
    "#tree.print_tree()"
   ]
  },
  {
   "cell_type": "code",
   "execution_count": 3,
   "id": "65821ae4-279d-4b30-bae2-b59733ae4d9b",
   "metadata": {},
   "outputs": [
    {
     "name": "stdout",
     "output_type": "stream",
     "text": [
      "False\n",
      "Select full:  False\n",
      "First expr full:  False\n"
     ]
    }
   ],
   "source": [
    "select_clause_children_count = 2\n",
    "from_clause_children_count = 5\n",
    "where_clause_children_count = 1 # This is always 1 based on the railroad diagrams\n",
    "\n",
    "\n",
    "# SELECT, FROM, WHERE keyword leaves\n",
    "select_keyword_node = Tree('SELECT', Ty('keyword'), 0)\n",
    "from_keyword_node = Tree('FROM', Ty('keyword'), 0)\n",
    "where_keyword_node = Tree('WHERE', Ty('keyword'), 0)\n",
    "\n",
    "# select_clause, from_clause and where_clauses which are partially initialized\n",
    "select_clause = Tree('select_clause', Ty('select_clause'), select_clause_children_count, [select_keyword_node])\n",
    "from_clause = Tree('from_clause', Ty('from_clause'), from_clause_children_count, [from_keyword_node])\n",
    "where_clause = Tree('where_clause', Ty('where_clause'), where_clause_children_count, [where_keyword_node])\n",
    "print(select_clause.is_full())\n",
    "select_core_tree = Tree('select_core', Ty('statement'), 3, [select_clause, from_clause, where_clause])\n",
    "\n",
    "tree.append_to_tree(select_core_tree)\n",
    "\n",
    "expr_tree1 = Tree('expr', Ty('expr'), 2)\n",
    "success = tree.append_to_tree(expr_tree1)\n",
    "\n",
    "\n",
    "name = 'MIN'\n",
    "node = Tree(name, Ty('function_name'), 0)\n",
    "tree.append_to_tree(node)\n",
    "\n",
    "#expr_tree = Tree('expr', Ty('expr'), 2)\n",
    "#success = tree.append_to_tree(expr_tree)\n",
    "\n",
    "name = 'table1'\n",
    "node = Tree(name, Ty('table_name'), 0)\n",
    "tree.append_to_tree(node)\n",
    "\n",
    "print('Select full: ', select_clause.is_full())\n",
    "print(\"First expr full: \", expr_tree1.is_full())"
   ]
  },
  {
   "cell_type": "code",
   "execution_count": 4,
   "id": "b00c7b9c-ccca-40fe-98ee-f1a7ff570095",
   "metadata": {},
   "outputs": [
    {
     "data": {
      "image/png": "[encoded data removed]",
      "text/plain": [
       "<Figure size 288x288 with 1 Axes>"
      ]
     },
     "metadata": {},
     "output_type": "display_data"
    }
   ],
   "source": [
    "diagram = tree.get_diagram()\n",
    "diagram.draw(figsize=(4, 4))\n",
    "#tree.print_tree()"
   ]
  },
  {
   "cell_type": "markdown",
   "id": "fc34c99b-ee4c-4930-926e-c6f4ca3dd9be",
   "metadata": {},
   "source": [
    "The following code removes cups that connect to boxes whose domain is empty type."
   ]
  },
  {
   "cell_type": "code",
   "execution_count": 5,
   "id": "833d4c83-c6bf-4ef8-85ce-1031d96cef47",
   "metadata": {},
   "outputs": [],
   "source": [
    "def remove_leaf_cups(diagram):\n",
    "    # Remove cups to reduce post-selection in the circuit, for faster execution\n",
    "\n",
    "    diags = []\n",
    "    for box, offset in zip(diagram.boxes, diagram.offsets):\n",
    "        #print('Box and offset: ', box, offset)\n",
    "        if not box.dom:  # word box\n",
    "            diags.insert(offset, box)\n",
    "        else:  # cup (the only other type of box in these diagrams)\n",
    "            i = 0\n",
    "            off = offset\n",
    "            #print('len(diags[i].cod) - 1: ', len(diags[i].cod) - 1)\n",
    "            while off > len(diags[i].cod) - 1:\n",
    "                #print('In loop')\n",
    "                off -= len(diags[i].cod)\n",
    "                i += 1\n",
    "            if len(diags) > 1:\n",
    "                left, right = diags[i:i+2]\n",
    "                #print(diags)\n",
    "                #print('left: ', left)\n",
    "                #print('right: ', right)\n",
    "\n",
    "                if len(left.cod) == 1:\n",
    "                    new_diag = right >> (left.r.dagger() @ Id(right.cod[1:]))\n",
    "                else:\n",
    "                    if len(right.cod) == 1:\n",
    "                        new_diag = left >> Id(s) @ right.l.dagger() @ Id(left.cod[offset + 1:])\n",
    "                    else:\n",
    "                        # The following code does not change the diagram now\n",
    "                        # This case will be handled after all leaf cups have been removed\n",
    "                        new_diag = left >> Id(s) @ right @ Id(left.cod[1:]) >> box @ Id(right.cod[1:]) @ Id(left.cod[1:])\n",
    "\n",
    "                diags[i:i+2] = [new_diag]\n",
    "            else:\n",
    "                #print(box)\n",
    "                diags[0] = diags[0] >> Id(s) @ Id(diags[0].cod[:offset - 1]) @ box @ Id(diags[0].cod[offset + 1:])\n",
    "                #print(diags)\n",
    "                #print('what what')\n",
    "\n",
    "    assert len(diags) == 1\n",
    "    return diags[0]"
   ]
  },
  {
   "cell_type": "code",
   "execution_count": 6,
   "id": "9ec11eb4-98d3-41e6-b0f2-5dccb2720df2",
   "metadata": {},
   "outputs": [
    {
     "data": {
      "image/png": "[encoded data removed]",
      "text/plain": [
       "<Figure size 720x720 with 1 Axes>"
      ]
     },
     "metadata": {},
     "output_type": "display_data"
    }
   ],
   "source": [
    "from discopy import Ty, Box, Id, Cup, Swap, Diagram, Functor\n",
    "e, s, n = Ty('e'), Ty('s'), Ty('n')\n",
    "\n",
    "diagram = Box('True', e, Ty())[::-1]\\\n",
    ">> Box('WHERE', s.r @ s @ e.l, Ty())[::-1] @ Id(e)\\\n",
    ">> Id(s.r @ s) @ Cup(e.l, e)\\\n",
    ">> Box('timeline_2', n, Ty())[::-1] @ Id(s.r @ s)\\\n",
    ">> Box('timeline_1', n, Ty())[::-1] @ Id(n @ s.r @ s)\\\n",
    ">> Box('FROM', s.r @ s @ n.l @ n.l, Ty())[::-1] @ Id(n @ n @ s.r @ s)\\\n",
    ">> Id(s.r @ s @ n.l) @ Cup(n.l, n) @ Id(n @ s.r @ s)\\\n",
    ">> Id(s.r @ s) @ Cup(n.l, n) @ Id(s.r @ s)\\\n",
    ">> Box('morty', n, Ty())[::-1] @ Id(s.r @ s @ s.r @ s)\\\n",
    ">> Box('r', n.r @ n, Ty())[::-1] @ Id(n @ s.r @ s @ s.r @ s)\\\n",
    ">> Box('rick', n, Ty())[::-1] @ Id(n.r @ n @ n @ s.r @ s @ s.r @ s)\\\n",
    ">> Cup(n, n.r) @ Id(n @ n @ s.r @ s @ s.r @ s)\\\n",
    ">> Box('SELECT', n @ n.l @ n.l, Ty())[::-1] @ Id(n @ n @ s.r @ s @ s.r @ s)\n",
    "#n @ n.l @ n\n",
    "diagram.draw(figsize=(10, 10))"
   ]
  },
  {
   "cell_type": "code",
   "execution_count": 7,
   "id": "469d4a30-1b19-4583-979c-74048c0f3767",
   "metadata": {},
   "outputs": [
    {
     "data": {
      "image/png": "[encoded data removed]",
      "text/plain": [
       "<Figure size 720x720 with 1 Axes>"
      ]
     },
     "metadata": {},
     "output_type": "display_data"
    }
   ],
   "source": [
    "diagram = Box('2nd Street', e, Ty())[::-1]\\\n",
    ">> Box('billingAddress', n, Ty())[::-1] @ Id(e)\\\n",
    ">> Box(\"=\", e @ e.l @ n.l, Ty())[::-1] @ Id(n @ e)\\\n",
    ">> Id(e @ e.l) @ Cup(n.l, n) @ Id(e) >> Id(e) @ Cup(e.l, e)\n",
    "diagram.draw(figsize=(10, 10))"
   ]
  },
  {
   "cell_type": "code",
   "execution_count": 8,
   "id": "f97c2f0b-b933-4b91-a16f-c9775f4a07e5",
   "metadata": {},
   "outputs": [
    {
     "data": {
      "image/png": "[encoded data removed]",
      "text/plain": [
       "<Figure size 720x720 with 1 Axes>"
      ]
     },
     "metadata": {},
     "output_type": "display_data"
    }
   ],
   "source": [
    "from discopy.rigid import Diagram\n",
    "\n",
    "diagram = Box('1', n, Ty())[::-1]\\\n",
    ">> Box('invoiceId', n, Ty())[::-1] @ Id(n)\\\n",
    ">> Box(\"=\", n @ n.l @ n.l, Ty())[::-1] @ Id(n @ n)\\\n",
    ">> Id(n @ n.l) @ Cup(n.l, n) @ Id(n)\\\n",
    ">> Id(n) @ Cup(n.l, n) >> Box('2nd Street', n, Ty())[::-1] @ Id(n)\\\n",
    ">> Box('billingAddress', n, Ty())[::-1] @ Id(n @ n)\\\n",
    ">> Box(\"=\", n @ n.l @ n.l, Ty())[::-1] @ Id(n @ n @ n)\\\n",
    ">> Id(n @ n.l) @ Cup(n.l, n) @ Id(n @ n)\\\n",
    ">> Id(n) @ Cup(n.l, n) @ Id(n)\\\n",
    "#>> Box('AND', n @ n.l @ n.l, Ty())[::-1] @ Id(n @ n)\\\n",
    "#>> Id(n @ n.l) @ Cup(n.l, n) @ Id(n) >> Id(n) @ Cup(n.l, n)\n",
    "\n",
    "diagram = Id(n @ n.l) @ Cup(n.l, n) @ Id(n @ n @ n) >> Id(n) @ Cup(n.l, n) @ Id(n @ n)\n",
    "\n",
    "diagram.draw(figsize=(10, 10))"
   ]
  },
  {
   "cell_type": "code",
   "execution_count": 9,
   "id": "a8008162-8e7b-421a-8bee-b9201e629b37",
   "metadata": {},
   "outputs": [
    {
     "data": {
      "image/png": "[encoded data removed]",
      "text/plain": [
       "<Figure size 720x720 with 1 Axes>"
      ]
     },
     "metadata": {},
     "output_type": "display_data"
    }
   ],
   "source": [
    "diagram = Id(n) @ Cup(n.l, n) @ Id(n.r @ n @ n @ s.r @ s @ s.r @ s)\n",
    "diagram.draw(figsize=(10, 10))"
   ]
  },
  {
   "cell_type": "code",
   "execution_count": 15,
   "id": "1fd17155-e643-47c7-8dde-9c43649963db",
   "metadata": {},
   "outputs": [
    {
     "data": {
      "image/png": "[encoded data removed]",
      "text/plain": [
       "<Figure size 720x720 with 1 Axes>"
      ]
     },
     "metadata": {},
     "output_type": "display_data"
    }
   ],
   "source": [
    "diagram =  Id(n @ n.r) @ Cup(n, n.r) @ Id(n) >> Cup(n, n.r) @ Id(n) #Box('NULL', n, Ty())[::-1] >> Box('NOT', n @ n.l, Ty())[::-1] @ Id(n) >> Id(n) @ Cup(n.l, n) #does not compose with Cup(n, n.r) @ Id(n)\n",
    "diagram.draw(figsize=(10, 10))"
   ]
  },
  {
   "cell_type": "code",
   "execution_count": 4,
   "id": "5970226a-f0ed-4376-915a-ef69666e7668",
   "metadata": {},
   "outputs": [
    {
     "data": {
      "image/png": "[encoded data removed]",
      "text/plain": [
       "<Figure size 432x288 with 1 Axes>"
      ]
     },
     "metadata": {},
     "output_type": "display_data"
    }
   ],
   "source": [
    "from discopy.quantum.circuit import (Circuit, Discard, Functor, Id, qubit)\n",
    "from discopy.quantum.gates import Bra, Ket, Rx, Rz\n",
    "from discopy.rigid import Box, Diagram, Ty\n",
    "import numpy as np\n",
    "\n",
    "from lambeq.ansatz import BaseAnsatz, Symbol\n",
    "from lambeq import CircuitAnsatz\n",
    "from discopy.quantum.gates import H, Rx, Rz, CRz\n",
    "\n",
    "def layer(thetas, n_qubits):\n",
    "    hadamards = Id(0).tensor(*(n_qubits * [H]))\n",
    "    rotations = Id(n_qubits).then(*(\n",
    "        Id(i) @ CRz(thetas[i]) @ Id(n_qubits - 2 - i)\n",
    "        for i in range(n_qubits - 1)))\n",
    "\n",
    "    # Modified line:\n",
    "    return hadamards >> rotations\n",
    "\n",
    "layer(thetas = [1,2,3], n_qubits = 4).draw()"
   ]
  },
  {
   "cell_type": "code",
   "execution_count": null,
   "id": "63b4037a-74b5-4238-84ec-d58f116c0236",
   "metadata": {},
   "outputs": [],
   "source": [
    "# Code to debug why Hadamard transform was positioned wrong\n",
    "\n",
    "#print(training_data_labels_l)\n",
    "#for c in training_circuits_l:\n",
    "#    c.draw(figsize=(10, 20))\n",
    "\n",
    "from discopy.quantum import Circuit\n",
    "import numpy\n",
    "import copy\n",
    "SEED = 10\n",
    "rng = numpy.random.default_rng(SEED)\n",
    "c = training_circuits_l[0].dagger()\n",
    "c.draw(figsize=(10, 20))\n",
    "parameter_n = len(c.free_symbols)\n",
    "params = list(c.free_symbols)\n",
    "c = c.lambdify(*params)\n",
    "x00 = -np.array(rng.random(parameter_n))\n",
    "numpy.random.seed(SEED)\n",
    "#for x in x00: print(x)\n",
    "\n",
    "#for i in range(len(params)):\n",
    "#    print(i, params[i])\n",
    "\n",
    "def normalise(predictions):\n",
    "    # apply smoothing to predictions\n",
    "    predictions = np.abs(predictions) + 1e-9\n",
    "    return predictions / predictions.sum()\n",
    "\n",
    "for i in range(31):\n",
    "    #c.draw(figsize=(10, 20))\n",
    "    x0 = copy.deepcopy(x00)\n",
    "    #print(x0)\n",
    "    x0[i] = x0[i] + 0.7\n",
    "    #print(x0)\n",
    "    outputs = Circuit.eval(c(*x0))\n",
    "    print(list(normalise(outputs.array)), params[i])"
   ]
  },
  {
   "cell_type": "code",
   "execution_count": null,
   "id": "14bdd994-a0cd-4953-93da-98b417e90afb",
   "metadata": {},
   "outputs": [],
   "source": [
    "#with open(this_folder + \"//results//result_2_\" + str(j) + \".p\", \"wb\") as f:\n",
    "#    pickle.dump(result, f)\n",
    "#with open(this_folder + \"//results//result_stats_2_\" + str(j) + \".p\", \"wb\") as f:\n",
    "#    stats = {\"train_costs\":train_costs,\"train_accs\":train_accs,\"dev_costs\":dev_costs,\"dev_accs\":dev_accs, \"a\" : new_a}\n",
    "#    pickle.dump(stats, f)\n",
    "#j+=1"
   ]
  },
  {
   "cell_type": "code",
   "execution_count": 2,
   "id": "9aa5cdc9-b2a2-4bc0-a83b-fd42494009a8",
   "metadata": {},
   "outputs": [
    {
     "name": "stdout",
     "output_type": "stream",
     "text": [
      "238\n"
     ]
    }
   ],
   "source": [
    "import numpy as np\n",
    "\n",
    "with open(\"points//main_noisyopt_21_1_3.npz\", \"rb\") as f:\n",
    "    npzfile = np.load(f)\n",
    "    print(len(npzfile['arr_0']))"
   ]
  },
  {
   "cell_type": "raw",
   "id": "1780cf39-c9a7-45b7-901c-f97ac035d3c9",
   "metadata": {},
   "source": [
    "res = [0,0,0,0]\n",
    "for k in training_data_labels.values():\n",
    "    res[k.index(1)] += 1       \n",
    "print(res)"
   ]
  },
  {
   "cell_type": "raw",
   "id": "b0a991b4-25be-4ef7-b47f-cfa586c65f2c",
   "metadata": {},
   "source": [
    "#all_circuits = list(training_circuits.values()) + list(test_circuits.values())\n",
    "\n",
    "training_circuits_l = []\n",
    "test_circuits_l = []\n",
    "validation_circuits_l = []\n",
    "\n",
    "training_data_labels_l = []\n",
    "test_data_labels_l = []\n",
    "validation_data_labels_l = []\n",
    "\n",
    "# Organize circuits and labels in correct order into two lists which will be input for training the model\n",
    "for key in training_data_labels:\n",
    "    training_circuits_l.append(training_circuits[key])\n",
    "    training_data_labels_l.append(training_data_labels[key])\n",
    "\n",
    "for key in test_data_labels:\n",
    "    test_circuits_l.append(test_circuits[key])\n",
    "    test_data_labels_l.append(test_data_labels[key])\n",
    "    \n",
    "for key in validation_data_labels:\n",
    "    validation_circuits_l.append(validation_circuits[key])\n",
    "    validation_data_labels_l.append(validation_data_labels[key])\n",
    "\n",
    "all_circuits = training_circuits_l + test_circuits_l + validation_circuits_l\n",
    "\n",
    "train_syms = set([sym for circuit in training_circuits.values() for sym in circuit.free_symbols])\n",
    "test_syms = set([sym for circuit in test_circuits.values() for sym in circuit.free_symbols])\n",
    "val_syms = set([sym for circuit in validation_circuits.values() for sym in circuit.free_symbols])\n",
    "\n",
    "print(\"Test circuits need to share training circuits' parameters. The parameters that are not covered (should be empty set, set()): \", test_syms.difference(train_syms))\n",
    "print(\"Validation circuits need to share training circuits' parameters. The parameters that are not covered (should be empty set, set()): \", val_syms.difference(train_syms))\n",
    "\n",
    "print(\"Total number of circuits: \", len(all_circuits))\n",
    "print(\"Total number of variables: \", len(train_syms))"
   ]
  },
  {
   "cell_type": "raw",
   "id": "18c84fc2-bf3b-42c1-87d3-d48aaee95be0",
   "metadata": {},
   "source": [
    "training_data_labels_l = np.array(training_data_labels_l)\n",
    "test_data_labels_l = np.array(test_data_labels_l)\n",
    "validation_data_labels_l = np.array(validation_data_labels_l)"
   ]
  },
  {
   "cell_type": "raw",
   "id": "9c4610b4-e09d-4284-82b9-b97cad56b8d5",
   "metadata": {},
   "source": [
    "parameters = sorted(\n",
    "    train_syms,\n",
    "    key=default_sort_key)\n",
    "\n",
    "rng = numpy.random.default_rng(SEED)\n",
    "init_params_spsa = np.array(rng.random(len(parameters)))\n",
    "numpy.random.seed(SEED)"
   ]
  },
  {
   "cell_type": "raw",
   "id": "4b10e68c-2f91-42ec-8c52-9731fed510ed",
   "metadata": {},
   "source": [
    "EPOCHS = 1000\n",
    "SEED = 0\n",
    "\n",
    "# This avoids TracerArrayConversionError from jax\n",
    "Tensor.np = np\n",
    "\n",
    "rng = numpy.random.default_rng(SEED)\n",
    "init_params_spsa = np.array(rng.random(len(parameters)))\n",
    "numpy.random.seed(SEED)\n",
    "\n",
    "train_cost_fn, train_costs, train_accs = make_cost_fn(train_pred_fn, training_data_labels_l)\n",
    "dev_cost_fn, dev_costs, dev_accs = make_cost_fn(dev_pred_fn, validation_data_labels_l)\n",
    "\n",
    "def callback_fn(xk):\n",
    "    valid_loss = dev_cost_fn(xk)\n",
    "    train_loss = round(train_costs[-1], 4)\n",
    "    train_acc = round(train_accs[-1], 4)\n",
    "    valid_acc = round(dev_accs[-1], 4)\n",
    "    iters = int(len(train_accs)/2)\n",
    "    if iters % 100 == 0:\n",
    "        print(\n",
    "                #f\"Params = {xk}, \"\n",
    "                f\"Epoch: {iters}   \",\n",
    "                f\"train/loss: {train_loss}   \",\n",
    "                f\"valid/loss: {round(valid_loss, 4)}   \",\n",
    "                f\"train/acc: {train_acc}   \",\n",
    "                f\"valid/acc: {valid_acc}\"\n",
    "            )\n",
    "    return valid_loss"
   ]
  },
  {
   "cell_type": "raw",
   "id": "5b07610a-1852-4b62-aa90-c2499de17a94",
   "metadata": {},
   "source": [
    "#a_values = [100.0, 10.0, 1.0, 0.1, 0.01, 0.001, 0.0001, 0.00001, 0.000001]\n",
    "#c_values = [100.0, 10.0, 1.0, 0.1, 0.01, 0.001, 0.0001, 0.00001, 0.000001]\n",
    "\n",
    "#a_values = [0.001, 0.005, 0.01, 0.015, 0.02, 0.025, 0.03]\n",
    "#c_values = [0.001, 0.005, 0.01, 0.015, 0.02, 0.025, 0.03]\n",
    "\n",
    "run = 6\n",
    "#a_values = [0.0055, 0.0054, 0.0052, 0.005, 0.0048, 0.0045, 0.004]\n",
    "#c_values = [0.012, 0.016, 0.018, 0.02, 0.022, 0.025, 0.03]\n",
    "\n",
    "#a_values = [0.0053, 0.0054, 0.0055, 0.0056, 0.0057]\n",
    "#c_values = [0.017, 0.0175, 0.018, 0.0185, 0.019]\n",
    "\n",
    "a_values = [0.0052, 0.00525, 0.0053, 0.00535, 0.0054]\n",
    "c_values = [0.0183, 0.0184, 0.0185, 0.0186, 0.0187] \n",
    "\n",
    "for i, a_value in enumerate(a_values):\n",
    "    for j, c_value in enumerate(c_values):\n",
    "        train_cost_fn, train_costs, train_accs = make_cost_fn(train_pred_fn, training_data_labels_l)\n",
    "        dev_cost_fn, dev_costs, dev_accs = make_cost_fn(dev_pred_fn, validation_data_labels_l)\n",
    "        \n",
    "        result = minimizeSPSA(train_cost_fn, x0=init_params_spsa, a = a_value, c = c_value, niter=EPOCHS, callback=callback_fn)"
   ]
  },
  {
   "cell_type": "raw",
   "id": "e7b2e805-1d55-462d-bfec-58eaf9eb5f80",
   "metadata": {},
   "source": [
    "import matplotlib.pyplot as plt\n",
    "\n",
    "fig, ((ax_tl, ax_tr), (ax_bl, ax_br)) = plt.subplots(2, 2, sharex=True, sharey='row', figsize=(10, 6))\n",
    "ax_tl.set_title('Training set')\n",
    "ax_tr.set_title('Development set')\n",
    "ax_bl.set_xlabel('Iterations')\n",
    "ax_br.set_xlabel('Iterations')\n",
    "ax_bl.set_ylabel('Accuracy')\n",
    "ax_tl.set_ylabel('Loss')\n",
    "\n",
    "colours = iter(plt.rcParams['axes.prop_cycle'].by_key()['color'])\n",
    "ax_tl.plot(train_costs[1::2], color=next(colours))  # training evaluates twice per iteration\n",
    "ax_bl.plot(train_accs[1::2], color=next(colours))   # so take every other entry\n",
    "ax_tr.plot(dev_costs, color=next(colours))\n",
    "ax_br.plot(dev_accs, color=next(colours))\n",
    "\n",
    "# print test accuracy\n",
    "test_cost_fn, _, test_accs = make_cost_fn(test_pred_fn, test_labels)\n",
    "test_cost_fn(result.x)\n",
    "print('Test accuracy:', test_accs[0])"
   ]
  },
  {
   "cell_type": "raw",
   "id": "395c78f1-eae3-4481-86dc-aad99572fab0",
   "metadata": {},
   "source": [
    "#rng = np.random.default_rng(0)\n",
    "#init_params_spsa = np.array(rng.random(len(symbols)))\n",
    "#cost_spsa(init_params_spsa)\n",
    "\n",
    "def most_common(lst):\n",
    "    counts = {}\n",
    "    for e in lst:\n",
    "        if tuple(e) in counts:\n",
    "            counts[tuple(e)] += 1\n",
    "        else:\n",
    "            counts[tuple(e)] = 1\n",
    "    return [counts[(1,0)]/len(lst), counts[(0,1)]/len(lst)] \n",
    "\n",
    "#rng = np.random.default_rng(SEED)\n",
    "#init_params_spsa = np.array(rng.random(len(symbols)))\n",
    "#circuit_samples = training_qnodes(init_params_spsa)\n",
    "#predictions = post_select_circuit_samples(circuit_samples)\n",
    "#print(predictions[0])\n",
    "#print(most_common(predictions[0]))"
   ]
  },
  {
   "cell_type": "raw",
   "id": "0a1b6a38-0519-4b6c-91ec-d59748f327fa",
   "metadata": {},
   "source": [
    "def post_select_shot(shot, post_selection):\n",
    "    diff = len(shot) - len(post_selection)\n",
    "    for i in range(len(post_selection)):\n",
    "        if shot[i + diff] != post_selection[i]:\n",
    "            return []\n",
    "    else:\n",
    "        return shot\n",
    "    \n",
    "def post_select_circuit_samples(circuit_samples):\n",
    "    selected_samples = []\n",
    "    for circuit_sample in circuit_samples:\n",
    "        selected = []\n",
    "        for shot in circuit_sample:\n",
    "            post_selected = post_select_shot(shot, [0]*(len(shot) - 1))\n",
    "            if len(post_selected) > 0:\n",
    "                if post_selected[0] == 0:\n",
    "                    selected.append([1, 0])\n",
    "                else:\n",
    "                    selected.append([0, 1])\n",
    "        selected_samples.append(selected)\n",
    "    return selected_samples"
   ]
  },
  {
   "cell_type": "raw",
   "id": "0898852b-84a2-418e-8628-92e02a74e219",
   "metadata": {},
   "source": [
    "qml_training_circuits, train_symbols = transform_into_pennylane_circuits(training_circuits, nshot, \"cirq.simulator\")\n",
    "#qml_test_circuits, test_symbols = transform_into_pennylane_circuits(test_circuits, nshot, \"cirq.simulator\")\n",
    "#qml_validation_circuits, val_symbols = transform_into_pennylane_circuits(validation_circuits, nshot, \"cirq.simulator\")\n",
    "qml_circuits = qml_training_circuits #+ qml_test_circuits + qml_validation_circuits\n",
    "\n",
    "def post_select_circuit_samples(circuit_samples, n_qubits, post_selection):\n",
    "    selected_samples = []\n",
    "    post_select_array = np.array([0]*(n_qubits - post_selection))\n",
    "    for circuit_sample in circuit_samples:\n",
    "        if np.array_equal(circuit_sample[post_selection - 1 :-1], post_select_array):\n",
    "            res = circuit_sample[0:post_selection]\n",
    "            if res[0] == 1:\n",
    "                selected_samples.append(1)\n",
    "            else:\n",
    "                selected_samples.append(0)\n",
    "    return selected_samples\n",
    "    \n",
    "params = [2*np.pi*random.uniform(0, 1) for i in range(len(symbols))]\n",
    "print(qml.draw(qml_circuits[2])(params))\n",
    "result = qml_circuits[2](params)\n",
    "print(len(result))\n",
    "post_selected_result = post_select_circuit_samples(result)\n",
    "res = collections.Counter(post_selected_result)\n",
    "print(dict(res))\n",
    "\n",
    "circuit = qml_circuits[\"20\"][\"qml_circuit\"]\n",
    "params = [2*np.pi*random.uniform(0, 1) for i in range(len(train_symbols))]\n",
    "result = circuit(params)\n",
    "#print(result[:100])\n",
    "\n",
    "post_selected_result = post_select_circuit_samples(result, n_qubits, 1)\n",
    "print(post_selected_result)\n",
    "print(qml.draw(circuit)(params))"
   ]
  }
 ],
 "metadata": {
  "kernelspec": {
   "display_name": "Python 3 (ipykernel)",
   "language": "python",
   "name": "python3"
  },
  "language_info": {
   "codemirror_mode": {
    "name": "ipython",
    "version": 3
   },
   "file_extension": ".py",
   "mimetype": "text/x-python",
   "name": "python",
   "nbconvert_exporter": "python",
   "pygments_lexer": "ipython3",
   "version": "3.10.8"
  }
 },
 "nbformat": 4,
 "nbformat_minor": 5
}
