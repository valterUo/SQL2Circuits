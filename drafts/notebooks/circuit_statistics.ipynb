{
 "cells": [
  {
   "cell_type": "markdown",
   "id": "8374eaf6-f713-4214-aecf-3cc84d89449c",
   "metadata": {},
   "source": [
    "# Notebook to calculate statistics about circuits"
   ]
  },
  {
   "cell_type": "code",
   "execution_count": 1,
   "id": "41f2f030-c7e6-47a1-b4a7-cef29d933d41",
   "metadata": {},
   "outputs": [],
   "source": [
    "import warnings\n",
    "import json\n",
    "import os\n",
    "import sys\n",
    "import glob\n",
    "import numpy\n",
    "import pickle\n",
    "import torch\n",
    "import random\n",
    "import pennylane as qml\n",
    "from discopy.quantum.pennylane import to_pennylane\n",
    "\n",
    "from math import ceil\n",
    "from pathlib import Path\n",
    "import numpy as np\n",
    "from sympy import default_sort_key\n",
    "from utils import *\n",
    "\n",
    "this_folder = os.path.abspath(os.getcwd())"
   ]
  },
  {
   "cell_type": "code",
   "execution_count": 2,
   "id": "a9962a83-148e-4a3d-8d52-1d248999ab7f",
   "metadata": {},
   "outputs": [],
   "source": [
    "# Select workload\n",
    "workload = \"execution_time\"\n",
    "#workload = \"cardinality\"\n",
    "\n",
    "# Select workload size\n",
    "workload_size = \"main\"\n",
    "\n",
    "classification = 2\n",
    "layers = 1\n",
    "single_qubit_params = 3\n",
    "n_wire_count = 1\n",
    "\n",
    "# Access the selected circuits\n",
    "path_name = this_folder + \"//simplified-JOB-diagrams//\"\\\n",
    "            + workload + \"//\" + workload_size + \"//circuits//\"\\\n",
    "            + str(classification) + \"//\" + str(layers) + \"_layer//\"\\\n",
    "            + str(single_qubit_params) + \"_single_qubit_params//\" + str(n_wire_count)\\\n",
    "            + \"_n_wire_count//\""
   ]
  },
  {
   "cell_type": "code",
   "execution_count": 3,
   "id": "e5581e1f-5082-4e10-bd29-602eccd2b9fc",
   "metadata": {},
   "outputs": [],
   "source": [
    "training_circuits_paths = glob.glob(path_name + \"training//[0-9]*.p\")\n",
    "validation_circuits_paths = glob.glob(path_name + \"validation//[0-9]*.p\")\n",
    "test_circuits_paths = glob.glob(path_name + \"test//[0-9]*.p\")"
   ]
  },
  {
   "cell_type": "code",
   "execution_count": 4,
   "id": "853ad7ce-077b-49a9-b502-916a19fa4977",
   "metadata": {},
   "outputs": [],
   "source": [
    "training_circuits = read_diagrams(training_circuits_paths)\n",
    "validation_circuits = read_diagrams(validation_circuits_paths)\n",
    "test_circuits = read_diagrams(test_circuits_paths)"
   ]
  },
  {
   "cell_type": "code",
   "execution_count": 5,
   "id": "2f7f980d-345e-4018-8922-bae1031ef8fe",
   "metadata": {},
   "outputs": [],
   "source": [
    "training_data = None\n",
    "data_path = this_folder + \"//data//\" + workload + \"//\" + workload_size + \"//\"\n",
    "\n",
    "with open(data_path + \"training_data.json\", \"r\") as inputfile:\n",
    "    training_data = json.load(inputfile)['training_data']\n",
    "    \n",
    "labels, stats = create_labeled_classes(training_data, classification, workload, True)"
   ]
  },
  {
   "cell_type": "markdown",
   "id": "b969714b-a8a4-40f8-8e3d-bc52eeb8a68d",
   "metadata": {},
   "source": [
    "Collected statistics:\n",
    "- Classification task\n",
    "- Number of classes\n",
    "- Number of training circuits\n",
    "- Number of validation circuits\n",
    "- Number of test circuits\n",
    "- Total number of circuits\n",
    "- Total number of variables\n",
    "- Single qubit gates in total:\n",
    "    - Hadamard\n",
    "    - Rx\n",
    "     - Rz\n",
    "- Two-qubit gates\n",
    "    - Ctrl-Rz\n",
    "- Avarage depth of circuits\n",
    "- Avarage number of qubits of circuits\n",
    "- Classes i.e. thresholds\n",
    "- KL(P || Q) i.e. 0.017 nats"
   ]
  },
  {
   "cell_type": "code",
   "execution_count": 6,
   "id": "b78b752c-8605-4e3b-9453-6d6c96f7294c",
   "metadata": {},
   "outputs": [],
   "source": [
    "def get_pennylane_circuit(disco_circuit):\n",
    "    qml_circuit = to_pennylane(disco_circuit)\n",
    "    qnode_circuit = qml_circuit.make_circuit()\n",
    "    current_symbols = list(sorted(disco_circuit.free_symbols, key=default_sort_key))\n",
    "    params = torch.Tensor([[2*np.pi*random.uniform(0, 1)] for i in range(len(current_symbols))])\n",
    "    params = qml_circuit.param_substitution(current_symbols, params)\n",
    "    return qnode_circuit, params, current_symbols"
   ]
  },
  {
   "cell_type": "code",
   "execution_count": 7,
   "id": "b65db046-3a6c-4c47-a16b-7375128e5d69",
   "metadata": {},
   "outputs": [],
   "source": [
    "numpy.random.seed(0)\n",
    "rng = numpy.random.default_rng(0)\n",
    "result = {}\n",
    "train_symbols = set()\n",
    "total_depth = 0\n",
    "total_qubits = 0\n",
    "\n",
    "for c in training_circuits:\n",
    "    #init_params = np.array(rng.random(len(train_symbols)))\n",
    "    disco_circuit = training_circuits[c]\n",
    "    qml_circuit, params, current_symbols = get_pennylane_circuit(disco_circuit)\n",
    "    train_symbols |= set(current_symbols)\n",
    "    specs_func = qml.specs(qml_circuit)\n",
    "    executed_circuit = specs_func(params)\n",
    "    total_depth += executed_circuit[\"depth\"]\n",
    "    total_qubits += executed_circuit[\"num_used_wires\"]\n",
    "    gate_types = executed_circuit[\"gate_types\"]\n",
    "    for elem in gate_types:\n",
    "        if elem not in result:\n",
    "            result[elem] = gate_types[elem]\n",
    "        else:\n",
    "            result[elem] = result[elem] + gate_types[elem]"
   ]
  },
  {
   "cell_type": "code",
   "execution_count": 8,
   "id": "f28fed12-c74e-4fef-b5a3-8ec3e0cca10a",
   "metadata": {},
   "outputs": [],
   "source": [
    "with open('results/statistics.json', 'r') as openfile:\n",
    "    statistics = json.load(openfile)\n",
    "\n",
    "key = workload + \"_\" + workload_size + \"_\" + str(classification) + \"_\" + str(layers) + \"_\" + str(single_qubit_params) + \"_\" + str(n_wire_count)\n",
    "\n",
    "class_ranges = \"\"\n",
    "for r in stats:\n",
    "    class_ranges += \"[\" + str(r[0]) + \",\" + str(r[1]) + \"];\"\n",
    "    \n",
    "statistics[key] = { \"workload\": workload, \n",
    "                    \"classification\" : 2**classification,\n",
    "                    \"class_ranges\": class_ranges,\n",
    "                    \"training_circuits\": len(training_circuits), \n",
    "                    \"validation_circuits\": len(validation_circuits), \n",
    "                    \"test_circuits\": len(test_circuits), \n",
    "                    \"total\": len(training_circuits)+len(validation_circuits)+len(test_circuits), \n",
    "                    \"train_symbols\": len(train_symbols),\n",
    "                    \"avarage_depth\": total_depth/len(training_circuits),\n",
    "                    \"avarage_number_of_qubits\": total_qubits/len(training_circuits),\n",
    "                    \"gate_counts\": result }\n",
    "\n",
    "with open('results/statistics.json', \"w\") as outfile:\n",
    "    json.dump(statistics, outfile)"
   ]
  },
  {
   "cell_type": "code",
   "execution_count": 9,
   "id": "7894ae09-6fe9-4afc-aab2-6f4ef7b35003",
   "metadata": {},
   "outputs": [],
   "source": [
    "def json_to_latex_table(json):\n",
    "    latex_beginning = \"\"\"\n",
    "    \\\\begin{table*}[t]\n",
    "        \\centering\n",
    "    \\\\begin{tabular}{|c|c|c|c|c|c|c|c|c|c|c|}\n",
    "    \\hline\"\"\"\n",
    "    \n",
    "    table_attributes = \"\"\"\n",
    "    Task & \n",
    "    \\#classes &\n",
    "    ranges &\n",
    "    \\#parameters &\n",
    "    avg. depth &\n",
    "    avg. qubits &\n",
    "    \\multicolumn{3}{|c|}{Single qubit gates} & \n",
    "    Two-qubit & \n",
    "    Results \\\\\\\\\n",
    "    & & & & & & \\#H & \\#Rx & \\#Rz & \\#CRz & \\\\\\\\\n",
    "    \\hline\n",
    "    \"\"\"\n",
    "    \n",
    "    data = \"\"\n",
    "    for e in json:\n",
    "        for element in json[e]:\n",
    "            if type(json[e][element]) == str or type(json[e][element]) == float or type(json[e][element]) == int:\n",
    "                data += str(json[e][element]) + \" & \"\n",
    "            else:\n",
    "                for elem in [\"Hadamard\", \"RX\", \"RZ\", \"CRZ\"]:\n",
    "                    data += str(json[e][element][elem]) + \" & \"\n",
    "        data += \"\\\\\\\\\"\n",
    "    \n",
    "    latex_ending = \"\"\"\n",
    "    \\\\hline\n",
    "    \\end{tabular}\n",
    "    \\label{tab:statistics}\n",
    "    \\end{table*}\n",
    "    \"\"\"\n",
    "    return latex_beginning + table_attributes + data + latex_ending"
   ]
  },
  {
   "cell_type": "code",
   "execution_count": 10,
   "id": "2e9af9f2-77ef-4c3e-b74b-fcc13b0d72c0",
   "metadata": {},
   "outputs": [
    {
     "name": "stdout",
     "output_type": "stream",
     "text": [
      "\n",
      "    \\begin{table*}[t]\n",
      "        \\centering\n",
      "    \\begin{tabular}{|c|c|c|c|c|c|c|c|c|c|c|}\n",
      "    \\hline\n",
      "    Task & \n",
      "    \\#classes &\n",
      "    ranges &\n",
      "    \\#parameters &\n",
      "    avg. depth &\n",
      "    avg. qubits &\n",
      "    \\multicolumn{3}{|c|}{Single qubit gates} & \n",
      "    Two-qubit & \n",
      "    Results \\\\\n",
      "    & & & & & & \\#H & \\#Rx & \\#Rz & \\#CRz & \\\\\n",
      "    \\hline\n",
      "    execution_time & 2 & [0.0929,263.9624];[263.9903,15603.7168]; & 448 & 113 & 112 & 673 & 286 & 30.0625 & 9.564732142857142 & 7202 & 26066 & 4354 & 3837 & \\\\cardinality & 2 & [0,33181];[33181,102540525]; & 448 & 113 & 112 & 673 & 283 & 30.0625 & 9.564732142857142 & 7202 & 25170 & 3906 & 3837 & \\\\cardinality & 4 & 448 & 113 & 112 & 673 & 279 & 20.0625 & 10.564732142857142 & 7650 & 22482 & 3906 & 4285 & \\\\execution_time & 4 & [0.0929,197.3973];[197.6023,263.9903];[264.8415,915.3311];[916.3591,15603.7168]; & 448 & 113 & 112 & 673 & 282 & 20.0625 & 10.564732142857142 & 7650 & 23378 & 4354 & 4285 & \\\\\n",
      "    \\hline\n",
      "    \\end{tabular}\n",
      "    \\label{tab:statistics}\n",
      "    \\end{table*}\n",
      "    \n"
     ]
    }
   ],
   "source": [
    "with open('results/statistics.json', 'r') as openfile:\n",
    "    statistics = json.load(openfile)\n",
    "    print(json_to_latex_table(statistics))"
   ]
  }
 ],
 "metadata": {
  "kernelspec": {
   "display_name": "Python 3 (ipykernel)",
   "language": "python",
   "name": "python3"
  },
  "language_info": {
   "codemirror_mode": {
    "name": "ipython",
    "version": 3
   },
   "file_extension": ".py",
   "mimetype": "text/x-python",
   "name": "python",
   "nbconvert_exporter": "python",
   "pygments_lexer": "ipython3",
   "version": "3.10.8"
  }
 },
 "nbformat": 4,
 "nbformat_minor": 5
}
