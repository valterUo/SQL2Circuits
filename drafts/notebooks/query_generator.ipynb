{
 "cells": [
  {
   "cell_type": "markdown",
   "id": "7ca312f9-727c-4487-8ed4-574938d8af97",
   "metadata": {},
   "source": [
    "# Query generator"
   ]
  },
  {
   "cell_type": "markdown",
   "id": "7fd77d8c-4bf2-4545-bf51-2c63979617b6",
   "metadata": {},
   "source": [
    "This module creates a collection of queries based on filtering and join clauses collected from Join Order Benchmark. These queries are used to train, validate and test the model."
   ]
  },
  {
   "cell_type": "code",
   "execution_count": 1,
   "id": "752123d7-43ba-405c-b3c2-7e00f9f65d98",
   "metadata": {},
   "outputs": [],
   "source": [
    "import json\n",
    "import os\n",
    "from itertools import combinations\n",
    "\n",
    "this_folder = os.path.abspath(os.getcwd())\n",
    "\n",
    "f = open(this_folder + \"//JOB_query_seed_execution_time.json\", \"r\")\n",
    "f = open(this_folder + \"//JOB_query_seed_cardinality.json\", \"r\")\n",
    "\n",
    "query_seed = json.load(f)\n",
    "\n",
    "#size = \"small\"\n",
    "#size = \"medium\"\n",
    "#size = \"large\"\n",
    "size = \"main\"\n",
    "\n",
    "workload = \"execution_time\"\n",
    "workload = \"cardinality\"\n",
    "\n",
    "path = \"//queries//\" + workload + \"//\" + size + \"//\""
   ]
  },
  {
   "cell_type": "code",
   "execution_count": 2,
   "id": "0def666e-8555-4ea2-ac36-1ec02d913e95",
   "metadata": {},
   "outputs": [],
   "source": [
    "def limit_query_seed(query_seed, num_of_filters, num_of_joins, num_of_selects):\n",
    "    return {\"selects\": query_seed[\"selects\"][:num_of_selects], \n",
    "            \"joins\": query_seed[\"joins\"][:num_of_joins], \n",
    "            \"filters\": query_seed[\"filters\"][:num_of_joins], \n",
    "            \"table_aliases\": query_seed[\"table_aliases\"]}"
   ]
  },
  {
   "cell_type": "code",
   "execution_count": 3,
   "id": "f4c6e7a1-389f-492c-844a-b8b5e37aade0",
   "metadata": {},
   "outputs": [],
   "source": [
    "#query_seed = limit_query_seed(query_seed, num_of_filters = 100, num_of_joins = 100, num_of_selects = 100)"
   ]
  },
  {
   "cell_type": "code",
   "execution_count": 4,
   "id": "99d64311-ba52-4bba-ab3a-b0dc9d1f7a68",
   "metadata": {},
   "outputs": [],
   "source": [
    "def query_generator(query_seed, max_num_of_filters, max_num_of_joins, max_num_of_tables):\n",
    "    queries, final_queries = [], []\n",
    "    filters = query_seed[\"filters\"]\n",
    "    joins = query_seed[\"joins\"]\n",
    "    selects = query_seed[\"selects\"]\n",
    "    \n",
    "    filter_combs, join_combs = [], []\n",
    "    for i in range(1, max_num_of_filters + 1):\n",
    "        filter_combs.append(list(combinations(filters, i)))\n",
    "    for i in range(1, max_num_of_joins + 1):\n",
    "        join_combs.append(list(combinations(joins, i)))\n",
    "    \n",
    "    for f in filter_combs:\n",
    "        for c1 in f:\n",
    "            for j in join_combs:\n",
    "                for c2 in j:\n",
    "                    table_aliases = list(set([v[\"table_alias\"] for v in c1] + [v[\"table_alias1\"] for v in c2] + [v[\"table_alias2\"] for v in c2]))\n",
    "                    if len(table_aliases) < max_num_of_tables + 1:\n",
    "                        queries.append({\"filters\": c1, \"joins\": c2, \"table_aliases\": table_aliases})\n",
    "                        \n",
    "    for s in selects:\n",
    "        for q in queries:\n",
    "            if s[\"table_alias\"] in q[\"table_aliases\"]:\n",
    "                final_queries.append({\"select\": s, \"joins\": q[\"joins\"], \"filters\": q[\"filters\"], \"table_aliases\": q[\"table_aliases\"]})\n",
    "    \n",
    "    return final_queries"
   ]
  },
  {
   "cell_type": "code",
   "execution_count": 5,
   "id": "adb6212d-97ad-4baa-b0fa-11e1316bfbfb",
   "metadata": {},
   "outputs": [],
   "source": [
    "def construct_queries(queries, query_seed):\n",
    "    aliases_to_tables = query_seed[\"table_aliases\"]\n",
    "    res = []\n",
    "    for i, q in enumerate(queries):\n",
    "        from_part = \" FROM \"\n",
    "        where_part = \" WHERE \"\n",
    "        for alias in q[\"table_aliases\"]:\n",
    "            from_part += aliases_to_tables[alias] + \" AS \" + alias + \", \"\n",
    "        for f in q[\"filters\"]:\n",
    "            where_part += f[\"filter\"] + \" AND \"\n",
    "        for j in q[\"joins\"]:\n",
    "            where_part += j[\"join\"] + \" AND \"\n",
    "            \n",
    "        query = \"SELECT \" + q[\"select\"][\"select\"] + from_part[:-2] + where_part[:-5] + \";\"\n",
    "        \n",
    "        if i % 3 != 0:\n",
    "            with open(this_folder + path + \"training//\" + str(i) + \".sql\", \"w\") as output:\n",
    "                output.write(query)\n",
    "        else:\n",
    "            if i % 2 == 0:\n",
    "                with open(this_folder + path + \"validation//\" + str(i) + \".sql\", \"w\") as output:\n",
    "                    output.write(query)\n",
    "            else:\n",
    "                with open(this_folder + path + \"test//\" + str(i) + \".sql\", \"w\") as output:\n",
    "                    output.write(query)\n",
    "                    "
   ]
  },
  {
   "cell_type": "code",
   "execution_count": 6,
   "id": "9c6ea254-3bae-4157-9e08-70a299b57404",
   "metadata": {},
   "outputs": [],
   "source": [
    "final_queries = query_generator(query_seed, max_num_of_filters = 2, max_num_of_joins = 2, max_num_of_tables = 2)\n",
    "construct_queries(final_queries, query_seed)"
   ]
  }
 ],
 "metadata": {
  "kernelspec": {
   "display_name": "Python 3 (ipykernel)",
   "language": "python",
   "name": "python3"
  },
  "language_info": {
   "codemirror_mode": {
    "name": "ipython",
    "version": 3
   },
   "file_extension": ".py",
   "mimetype": "text/x-python",
   "name": "python",
   "nbconvert_exporter": "python",
   "pygments_lexer": "ipython3",
   "version": "3.8.10"
  }
 },
 "nbformat": 4,
 "nbformat_minor": 5
}
