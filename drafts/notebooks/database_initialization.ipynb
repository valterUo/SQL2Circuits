{
 "cells": [
  {
   "cell_type": "markdown",
   "id": "fc0cf4e3-d216-48d9-86df-66f3b965dbe0",
   "metadata": {
    "tags": []
   },
   "source": [
    "# PostgreSQL database preparation"
   ]
  },
  {
   "cell_type": "markdown",
   "id": "cdc3a45c-70c4-4b06-826d-474e91f71dc3",
   "metadata": {},
   "source": [
    "Prerequisites:\n",
    "\n",
    "1. You need to have PostgreSQL database installed and configured\n",
    "2. You have downloaded the old but more comprehensive IMDB data set from year 2017. See the instructions and link to the files from [cinemagoer](https://cinemagoer.readthedocs.io/en/latest/usage/ptdf.html).\n",
    "3. Create an empty database (imdb2017) for the user (postgres) with the following code:\n",
    "\n",
    "```\n",
    "CREATE DATABASE imdb2017\n",
    "WITH OWNER postgres\n",
    "TEMPLATE = template0\n",
    "ENCODING UTF8\n",
    "LC_COLLATE = 'und-x-icu'\n",
    "LC_CTYPE = 'und-x-icu';\n",
    "```\n",
    "\n",
    "IMDB is providing newer but less comprehensive [dataset](https://www.imdb.com/interfaces/). Cinemagoer describes how to upload that data into Postgres but because the join order benchmark queries are built on the older dataset, we also need to use the older one."
   ]
  },
  {
   "cell_type": "code",
   "execution_count": 1,
   "id": "19b1c1f9-bd75-46c3-8aa2-5484f260f935",
   "metadata": {},
   "outputs": [],
   "source": [
    "# Database credentials\n",
    "\n",
    "port = \"5432\"\n",
    "pg_db_name = \"imdb2017\"\n",
    "pg_user = \"postgres\"\n",
    "pg_pw = \"0000\"\n",
    "imdb_file_path = \"C://Users//valte//Documents//frozendata\"\n",
    "\n",
    "pg_connection = \"postgresql://\" + pg_user + \":\" + pg_pw + \"@localhost:\" + port + \"/\" + pg_db_name"
   ]
  },
  {
   "cell_type": "markdown",
   "id": "3a2352e3-ccc0-4d43-aeed-688d668f8c28",
   "metadata": {},
   "source": [
    "The following code will use `imdbpy2sql` code to insert the internet movie database data into the created database. Note that the execution will probably take hours. Once the insert has been performed, comment the cell."
   ]
  },
  {
   "cell_type": "code",
   "execution_count": 2,
   "id": "35ab7558-e50e-4802-831e-f07a12f181b8",
   "metadata": {},
   "outputs": [],
   "source": [
    "#!python cinemagoer\\bin\\imdbpy2sql.py -d {imdb_file_path} -u {pg_connection}"
   ]
  },
  {
   "cell_type": "markdown",
   "id": "529a4adc-0b09-47a6-83fc-6cccba029168",
   "metadata": {},
   "source": [
    "To speedup queries we create certain indeces."
   ]
  },
  {
   "cell_type": "code",
   "execution_count": 3,
   "id": "b56b2456-fb67-4fc5-a2fe-fec17726c682",
   "metadata": {},
   "outputs": [
    {
     "name": "stdout",
     "output_type": "stream",
     "text": [
      "Error while fetching data from PostgreSQL relation \"company_id_movie_companies\" already exists\n",
      "\n",
      "PostgreSQL connection is closed\n"
     ]
    }
   ],
   "source": [
    "import psycopg2\n",
    "\n",
    "create_indices = \"\"\"\n",
    "create index company_id_movie_companies on movie_companies(company_id);\n",
    "create index company_type_id_movie_companies on movie_companies(company_type_id);\n",
    "create index info_type_id_movie_info on movie_info(info_type_id);\n",
    "create index info_type_id_person_info on person_info(info_type_id);\n",
    "create index keyword_id_movie_keyword on movie_keyword(keyword_id);\n",
    "create index kind_id_aka_title on aka_title(kind_id);\n",
    "create index kind_id_title on title(kind_id);\n",
    "create index linked_movie_id_movie_link on movie_link(linked_movie_id);\n",
    "create index link_type_id_movie_link on movie_link(link_type_id);\n",
    "create index movie_id_aka_title on aka_title(movie_id);\n",
    "create index movie_id_cast_info on cast_info(movie_id);\n",
    "create index movie_id_complete_cast on complete_cast(movie_id);\n",
    "create index movie_id_movie_companies on movie_companies(movie_id);\n",
    "create index movie_id_movie_keyword on movie_keyword(movie_id);\n",
    "create index movie_id_movie_link on movie_link(movie_id);\n",
    "create index movie_id_movie_info on movie_info(movie_id);\n",
    "create index person_id_aka_name on aka_name(person_id);\n",
    "create index person_id_cast_info on cast_info(person_id);\n",
    "create index person_id_person_info on person_info(person_id);\n",
    "create index person_role_id_cast_info on cast_info(person_role_id);\n",
    "create index role_id_cast_info on cast_info(role_id);\n",
    "\"\"\"\n",
    "\n",
    "test_query = \"EXPLAIN ANALYZE SELECT * FROM title LIMIT 2;\"\n",
    "\n",
    "try:\n",
    "    connection = psycopg2.connect(user=pg_user, password=pg_pw, host=\"localhost\", port=port, database=pg_db_name)\n",
    "    cursor = connection.cursor()\n",
    "    cursor.execute(create_indices)\n",
    "    res = cursor.fetchall()\n",
    "    print(res)\n",
    "\n",
    "except (Exception, psycopg2.Error) as error:\n",
    "    print(\"Error while fetching data from PostgreSQL\", error)\n",
    "\n",
    "finally:\n",
    "    # closing database connection.\n",
    "    if connection:\n",
    "        cursor.close()\n",
    "        connection.close()\n",
    "        print(\"PostgreSQL connection is closed\")"
   ]
  }
 ],
 "metadata": {
  "kernelspec": {
   "display_name": "Python 3 (ipykernel)",
   "language": "python",
   "name": "python3"
  },
  "language_info": {
   "codemirror_mode": {
    "name": "ipython",
    "version": 3
   },
   "file_extension": ".py",
   "mimetype": "text/x-python",
   "name": "python",
   "nbconvert_exporter": "python",
   "pygments_lexer": "ipython3",
   "version": "3.8.10"
  }
 },
 "nbformat": 4,
 "nbformat_minor": 5
}
