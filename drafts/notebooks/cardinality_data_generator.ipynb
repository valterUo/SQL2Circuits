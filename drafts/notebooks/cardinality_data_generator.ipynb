{
 "cells": [
  {
   "cell_type": "markdown",
   "id": "61750f3d-0b56-4176-82a1-8ee077a37601",
   "metadata": {},
   "source": [
    "# Circuit learning method for SQL: training and test data generation for cardinality prediction"
   ]
  },
  {
   "cell_type": "markdown",
   "id": "7b2e9607-2cbb-4f44-bd58-617246161c41",
   "metadata": {},
   "source": [
    "## Import queries"
   ]
  },
  {
   "cell_type": "markdown",
   "id": "23d052a6-bbf9-4c44-bc2d-fad707ffc8ad",
   "metadata": {},
   "source": [
    "Training and test data are stored to `data` folder in json files."
   ]
  },
  {
   "cell_type": "code",
   "execution_count": 1,
   "id": "a5430fc7-65b3-43d4-a7f6-132db3152f4a",
   "metadata": {},
   "outputs": [],
   "source": [
    "# Read queries from the join order benchmark\n",
    "import glob\n",
    "import os\n",
    "import re\n",
    "import json\n",
    "import psycopg2\n",
    "from pathlib import Path\n",
    "\n",
    "this_folder = os.path.abspath(os.getcwd())"
   ]
  },
  {
   "cell_type": "code",
   "execution_count": 2,
   "id": "1021445a-6942-4b42-94ae-e53bc25d5e0c",
   "metadata": {},
   "outputs": [],
   "source": [
    "# Database credentials\n",
    "\n",
    "port = \"5432\"\n",
    "pg_db_name = \"imdb2017\"\n",
    "pg_user = \"postgres\"\n",
    "pg_pw = \"0000\"\n",
    "imdb_file_path = \"C://Users//valte//Documents//frozendata\"\n",
    "\n",
    "pg_connection = \"postgresql://\" + pg_user + \":\" + pg_pw + \"@localhost:\" + port + \"/\" + pg_db_name"
   ]
  },
  {
   "cell_type": "code",
   "execution_count": 3,
   "id": "3723014d-9869-4120-b152-e3607efab056",
   "metadata": {},
   "outputs": [],
   "source": [
    "#size = \"small\"\n",
    "#size = \"medium\"\n",
    "#size = \"large\"\n",
    "size = \"main\"\n",
    "workload = \"cardinality\"\n",
    "\n",
    "path = this_folder + \"//queries//\" + workload + \"//\" + size + \"//\"\n",
    "query_path_training = glob.glob(path + \"training//[0-9]*.sql\")\n",
    "query_path_validation = glob.glob(path + \"validation//[0-9]*.sql\")\n",
    "query_path_test = glob.glob(path + \"test//[0-9]*.sql\")"
   ]
  },
  {
   "cell_type": "code",
   "execution_count": 4,
   "id": "55a86072-b2b6-4022-a980-2260c1d7c047",
   "metadata": {},
   "outputs": [
    {
     "name": "stdout",
     "output_type": "stream",
     "text": [
      "Number of training queries is  448\n",
      "Number of validation queries is  113\n",
      "Number of test queries is  112\n"
     ]
    }
   ],
   "source": [
    "def read_queries(files):\n",
    "    queries = []\n",
    "    for i, query in enumerate(files):\n",
    "        base_name = Path(query).stem\n",
    "        f = open(query, \"r\")\n",
    "        queries.append({ 'name': base_name, 'query': f.read() })\n",
    "    return queries\n",
    "    \n",
    "training_queries = read_queries(query_path_training)\n",
    "validation_queries = read_queries(query_path_validation)\n",
    "test_queries = read_queries(query_path_test)\n",
    "        \n",
    "print(\"Number of training queries is \", len(training_queries))\n",
    "print(\"Number of validation queries is \", len(validation_queries))\n",
    "print(\"Number of test queries is \", len(test_queries))"
   ]
  },
  {
   "cell_type": "markdown",
   "id": "3bda815d-398e-4003-b6b2-76705fc94331",
   "metadata": {},
   "source": [
    "### Generating training and test data"
   ]
  },
  {
   "cell_type": "code",
   "execution_count": 5,
   "id": "8b5b2803-fcab-4768-8877-bff452de67de",
   "metadata": {},
   "outputs": [],
   "source": [
    "def genereta_data(queries, workload, ty, size):\n",
    "    connection = psycopg2.connect(user=pg_user, password=pg_pw, host=\"localhost\", port=port, database=pg_db_name)\n",
    "    cursor = connection.cursor()\n",
    "    cursor.execute(\"SET statement_timeout = 20000; COMMIT;\")\n",
    "    data = []\n",
    "    file_name = \"data//\" + workload + \"//\" + size + \"//\" + ty + \"_data.json\"\n",
    "    root_name = ty + \"_data\"\n",
    "    \n",
    "    for query in queries:\n",
    "        try:\n",
    "            cursor = connection.cursor()\n",
    "            cursor.execute(\"EXPLAIN ANALYZE \" + query['query'])\n",
    "            res = cursor.fetchall()\n",
    "            cardinality = int(re.findall(\"rows=(\\d+)\", res[0][0])[1])\n",
    "            data.append({ 'name': query['name'], 'cardinality': cardinality })\n",
    "\n",
    "        except (Exception, psycopg2.Error) as error:\n",
    "            print(\"Error while fetching data from PostgreSQL\", error)\n",
    "            print(query)\n",
    "\n",
    "    if connection:\n",
    "        cursor.close()\n",
    "        connection.close()\n",
    "        print(\"PostgreSQL connection is closed\")\n",
    "        \n",
    "    with open(file_name, 'w') as outfile:\n",
    "        json.dump({ root_name: data }, outfile)"
   ]
  },
  {
   "cell_type": "code",
   "execution_count": 6,
   "id": "5bf3ff40-1999-4d30-8a4c-5f502535be37",
   "metadata": {},
   "outputs": [
    {
     "name": "stdout",
     "output_type": "stream",
     "text": [
      "Error while fetching data from PostgreSQL canceling statement due to statement timeout\n",
      "\n",
      "{'name': '127', 'query': \"SELECT mc.note AS production_note FROM movie_companies AS mc, movie_info AS mi WHERE mc.note NOT LIKE '%(as Metro-Goldwyn-Mayer Pictures)%' AND mc.note IS NOT NULL AND mc.movie_id = mi.movie_id;\"}\n",
      "Error while fetching data from PostgreSQL canceling statement due to statement timeout\n",
      "\n",
      "{'name': '128', 'query': \"SELECT mc.note AS production_note FROM cast_info AS ci, movie_companies AS mc WHERE mc.note NOT LIKE '%(as Metro-Goldwyn-Mayer Pictures)%' AND mc.note IS NOT NULL AND ci.movie_id = mc.movie_id;\"}\n",
      "Error while fetching data from PostgreSQL canceling statement due to statement timeout\n",
      "\n",
      "{'name': '328', 'query': 'SELECT t.title AS movie_title FROM cast_info AS ci, title AS t WHERE t.production_year < 2011 AND t.id = ci.movie_id;'}\n",
      "Error while fetching data from PostgreSQL canceling statement due to statement timeout\n",
      "\n",
      "{'name': '400', 'query': 'SELECT t.production_year AS movie_year FROM cast_info AS ci, title AS t WHERE t.production_year < 2011 AND t.id = ci.movie_id;'}\n",
      "Error while fetching data from PostgreSQL canceling statement due to statement timeout\n",
      "\n",
      "{'name': '434', 'query': 'SELECT t.production_year AS movie_year FROM cast_info AS ci, title AS t WHERE t.production_year > 2004 AND t.production_year < 2011 AND t.id = ci.movie_id;'}\n",
      "Error while fetching data from PostgreSQL canceling statement due to statement timeout\n",
      "\n",
      "{'name': '466', 'query': \"SELECT n.name AS actor_name FROM name AS n, cast_info AS ci WHERE n.gender='m' AND n.id = ci.person_id;\"}\n",
      "Error while fetching data from PostgreSQL canceling statement due to statement timeout\n",
      "\n",
      "{'name': '58', 'query': 'SELECT mc.note AS production_note FROM cast_info AS ci, movie_companies AS mc WHERE mc.note IS NOT NULL AND ci.movie_id = mc.movie_id;'}\n",
      "Error while fetching data from PostgreSQL canceling statement due to statement timeout\n",
      "\n",
      "{'name': '593', 'query': \"SELECT mi.info AS release_date FROM cast_info AS ci, movie_info AS mi WHERE mi.info IN ('Sweden', 'USA', 'German') AND ci.movie_id = mi.movie_id;\"}\n",
      "PostgreSQL connection is closed\n",
      "Error while fetching data from PostgreSQL canceling statement due to statement timeout\n",
      "\n",
      "{'name': '318', 'query': 'SELECT t.title AS movie_title FROM cast_info AS ci, title AS t WHERE t.production_year > 2004 AND t.id = ci.movie_id;'}\n",
      "Error while fetching data from PostgreSQL canceling statement due to statement timeout\n",
      "\n",
      "{'name': '390', 'query': 'SELECT t.production_year AS movie_year FROM cast_info AS ci, title AS t WHERE t.production_year > 2004 AND t.id = ci.movie_id;'}\n",
      "Error while fetching data from PostgreSQL canceling statement due to statement timeout\n",
      "\n",
      "{'name': '582', 'query': \"SELECT mi.info AS release_date FROM movie_companies AS mc, movie_info AS mi WHERE mc.note NOT LIKE '%(as Metro-Goldwyn-Mayer Pictures)%' AND mc.movie_id = mi.movie_id;\"}\n",
      "Error while fetching data from PostgreSQL canceling statement due to statement timeout\n",
      "\n",
      "{'name': '6', 'query': \"SELECT mc.note AS production_note FROM cast_info AS ci, movie_companies AS mc WHERE mc.note NOT LIKE '%(as Metro-Goldwyn-Mayer Pictures)%' AND ci.movie_id = mc.movie_id;\"}\n",
      "Error while fetching data from PostgreSQL canceling statement due to statement timeout\n",
      "\n",
      "{'name': '600', 'query': 'SELECT mi.info AS release_date FROM movie_companies AS mc, movie_info AS mi WHERE mc.note IS NOT NULL AND mc.movie_id = mi.movie_id;'}\n",
      "PostgreSQL connection is closed\n",
      "Error while fetching data from PostgreSQL canceling statement due to statement timeout\n",
      "\n",
      "{'name': '495', 'query': \"SELECT an.name AS actress_pseudonym FROM aka_name AS an, cast_info AS ci WHERE an.name LIKE '%a%' AND an.person_id = ci.person_id;\"}\n",
      "Error while fetching data from PostgreSQL canceling statement due to statement timeout\n",
      "\n",
      "{'name': '615', 'query': \"SELECT mi.info AS release_date FROM movie_companies AS mc, movie_info AS mi WHERE mc.note NOT LIKE '%(as Metro-Goldwyn-Mayer Pictures)%' AND mc.note IS NOT NULL AND mc.movie_id = mi.movie_id;\"}\n",
      "Error while fetching data from PostgreSQL canceling statement due to statement timeout\n",
      "\n",
      "{'name': '69', 'query': 'SELECT mc.note AS production_note FROM cast_info AS ci, movie_companies AS mc WHERE mc.note IS NULL AND ci.movie_id = mc.movie_id;'}\n",
      "PostgreSQL connection is closed\n"
     ]
    }
   ],
   "source": [
    "genereta_data(training_queries, workload, \"training\", size)\n",
    "genereta_data(validation_queries, workload, \"validation\", size)\n",
    "genereta_data(test_queries, workload, \"test\", size)"
   ]
  },
  {
   "cell_type": "code",
   "execution_count": null,
   "id": "1f1a1ead-c788-4d74-966c-cad2e9c6c864",
   "metadata": {},
   "outputs": [],
   "source": []
  }
 ],
 "metadata": {
  "kernelspec": {
   "display_name": "Python 3 (ipykernel)",
   "language": "python",
   "name": "python3"
  },
  "language_info": {
   "codemirror_mode": {
    "name": "ipython",
    "version": 3
   },
   "file_extension": ".py",
   "mimetype": "text/x-python",
   "name": "python",
   "nbconvert_exporter": "python",
   "pygments_lexer": "ipython3",
   "version": "3.8.10"
  }
 },
 "nbformat": 4,
 "nbformat_minor": 5
}
