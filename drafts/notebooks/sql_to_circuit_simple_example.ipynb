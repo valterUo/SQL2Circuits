{
 "cells": [
  {
   "cell_type": "markdown",
   "id": "cc9bede7-1703-4723-b5fa-172d327b2594",
   "metadata": {},
   "source": [
    "# Simple example: Transformations from SQL to parametrized circuit"
   ]
  },
  {
   "cell_type": "markdown",
   "id": "ad7c063e-77cd-4a87-8a5b-148daaaa38b9",
   "metadata": {},
   "source": [
    "## Parsing"
   ]
  },
  {
   "cell_type": "markdown",
   "id": "983f98b4-186c-40d2-9217-60bbb25347f2",
   "metadata": {},
   "source": [
    "We parse the queries with ANTRL framework which is an extensive general-purpose parsing tool. We selected the SQLite grammar for its simplicity in ANTRL prewritten grammars. Because the core features of SQL are the same for any relational database, this code does not depend on system's SQL dialect.\n",
    "\n",
    "So far, the module can deal with queries that have a SELECT-FROM-WHERE structure without substatements."
   ]
  },
  {
   "cell_type": "code",
   "execution_count": 1,
   "id": "f4075cf1-b27e-498c-9e85-82f30a01ff70",
   "metadata": {},
   "outputs": [
    {
     "ename": "NameError",
     "evalue": "name 'Lexer' is not defined",
     "output_type": "error",
     "traceback": [
      "\u001b[0;31m---------------------------------------------------------------------------\u001b[0m",
      "\u001b[0;31mNameError\u001b[0m                                 Traceback (most recent call last)",
      "Input \u001b[0;32mIn [1]\u001b[0m, in \u001b[0;36m<cell line: 2>\u001b[0;34m()\u001b[0m\n\u001b[1;32m      1\u001b[0m \u001b[38;5;28;01mfrom\u001b[39;00m \u001b[38;5;21;01mantlr4\u001b[39;00m \u001b[38;5;28;01mimport\u001b[39;00m \u001b[38;5;241m*\u001b[39m\n\u001b[0;32m----> 2\u001b[0m \u001b[38;5;28;01mfrom\u001b[39;00m \u001b[38;5;21;01mSQLiteLexer\u001b[39;00m \u001b[38;5;28;01mimport\u001b[39;00m SQLiteLexer\n\u001b[1;32m      3\u001b[0m \u001b[38;5;28;01mfrom\u001b[39;00m \u001b[38;5;21;01mSQLiteParser\u001b[39;00m \u001b[38;5;28;01mimport\u001b[39;00m SQLiteParser\n\u001b[1;32m      4\u001b[0m \u001b[38;5;28;01mfrom\u001b[39;00m \u001b[38;5;21;01mSQLiteParserListener\u001b[39;00m \u001b[38;5;28;01mimport\u001b[39;00m SQLiteParserListener\n",
      "File \u001b[0;32m~/quantum-computing-for-database-query-languages/SQLiteLexer.py:641\u001b[0m, in \u001b[0;36m<module>\u001b[0;34m\u001b[0m\n\u001b[1;32m     11\u001b[0m \u001b[38;5;28;01mdef\u001b[39;00m \u001b[38;5;21mserializedATN\u001b[39m():\n\u001b[1;32m     12\u001b[0m     \u001b[38;5;28;01mreturn\u001b[39;00m [\n\u001b[1;32m     13\u001b[0m         \u001b[38;5;241m4\u001b[39m,\u001b[38;5;241m0\u001b[39m,\u001b[38;5;241m193\u001b[39m,\u001b[38;5;241m1704\u001b[39m,\u001b[38;5;241m6\u001b[39m,\u001b[38;5;241m-\u001b[39m\u001b[38;5;241m1\u001b[39m,\u001b[38;5;241m2\u001b[39m,\u001b[38;5;241m0\u001b[39m,\u001b[38;5;241m7\u001b[39m,\u001b[38;5;241m0\u001b[39m,\u001b[38;5;241m2\u001b[39m,\u001b[38;5;241m1\u001b[39m,\u001b[38;5;241m7\u001b[39m,\u001b[38;5;241m1\u001b[39m,\u001b[38;5;241m2\u001b[39m,\u001b[38;5;241m2\u001b[39m,\u001b[38;5;241m7\u001b[39m,\u001b[38;5;241m2\u001b[39m,\u001b[38;5;241m2\u001b[39m,\u001b[38;5;241m3\u001b[39m,\u001b[38;5;241m7\u001b[39m,\u001b[38;5;241m3\u001b[39m,\u001b[38;5;241m2\u001b[39m,\u001b[38;5;241m4\u001b[39m,\u001b[38;5;241m7\u001b[39m,\u001b[38;5;241m4\u001b[39m,\u001b[38;5;241m2\u001b[39m,\u001b[38;5;241m5\u001b[39m,\u001b[38;5;241m7\u001b[39m,\n\u001b[1;32m     14\u001b[0m         \u001b[38;5;241m5\u001b[39m,\u001b[38;5;241m2\u001b[39m,\u001b[38;5;241m6\u001b[39m,\u001b[38;5;241m7\u001b[39m,\u001b[38;5;241m6\u001b[39m,\u001b[38;5;241m2\u001b[39m,\u001b[38;5;241m7\u001b[39m,\u001b[38;5;241m7\u001b[39m,\u001b[38;5;241m7\u001b[39m,\u001b[38;5;241m2\u001b[39m,\u001b[38;5;241m8\u001b[39m,\u001b[38;5;241m7\u001b[39m,\u001b[38;5;241m8\u001b[39m,\u001b[38;5;241m2\u001b[39m,\u001b[38;5;241m9\u001b[39m,\u001b[38;5;241m7\u001b[39m,\u001b[38;5;241m9\u001b[39m,\u001b[38;5;241m2\u001b[39m,\u001b[38;5;241m10\u001b[39m,\u001b[38;5;241m7\u001b[39m,\u001b[38;5;241m10\u001b[39m,\u001b[38;5;241m2\u001b[39m,\u001b[38;5;241m11\u001b[39m,\u001b[38;5;241m7\u001b[39m,\u001b[38;5;241m11\u001b[39m,\u001b[38;5;241m2\u001b[39m,\u001b[38;5;241m12\u001b[39m,\u001b[38;5;241m7\u001b[39m,\u001b[38;5;241m12\u001b[39m,\n\u001b[0;32m   (...)\u001b[0m\n\u001b[1;32m    638\u001b[0m         \u001b[38;5;241m1668\u001b[39m,\u001b[38;5;241m1672\u001b[39m,\u001b[38;5;241m1676\u001b[39m,\u001b[38;5;241m1686\u001b[39m,\u001b[38;5;241m1\u001b[39m,\u001b[38;5;241m0\u001b[39m,\u001b[38;5;241m1\u001b[39m,\u001b[38;5;241m0\u001b[39m\n\u001b[1;32m    639\u001b[0m     ]\n\u001b[0;32m--> 641\u001b[0m \u001b[38;5;28;01mclass\u001b[39;00m \u001b[38;5;21;01mSQLiteLexer\u001b[39;00m(\u001b[43mLexer\u001b[49m):\n\u001b[1;32m    643\u001b[0m     atn \u001b[38;5;241m=\u001b[39m ATNDeserializer()\u001b[38;5;241m.\u001b[39mdeserialize(serializedATN())\n\u001b[1;32m    645\u001b[0m     decisionsToDFA \u001b[38;5;241m=\u001b[39m [ DFA(ds, i) \u001b[38;5;28;01mfor\u001b[39;00m i, ds \u001b[38;5;129;01min\u001b[39;00m \u001b[38;5;28menumerate\u001b[39m(atn\u001b[38;5;241m.\u001b[39mdecisionToState) ]\n",
      "\u001b[0;31mNameError\u001b[0m: name 'Lexer' is not defined"
     ]
    }
   ],
   "source": [
    "from antlr4 import *\n",
    "from SQLiteLexer import SQLiteLexer\n",
    "from SQLiteParser import SQLiteParser\n",
    "from SQLiteParserListener import SQLiteParserListener\n",
    "import json\n",
    "import os\n",
    "import glob\n",
    "import random\n",
    "from pathlib import Path\n",
    "from discopy import Ty, Box, Functor, Id, Swap, hypergraph, Cup\n",
    "from functools import reduce\n",
    "import numpy as np\n",
    "import sympy\n",
    "from discopy.quantum.pennylane import to_pennylane, PennyLaneCircuit\n",
    "from sympy import default_sort_key\n",
    "import pennylane as qml\n",
    "import torch\n",
    "#from lambeq import IQPAnsatz\n",
    "from flipped_IQPansatz import IQPAnsatzFlipped\n",
    "from pennylane.drawer import draw,draw_mpl,tape_mpl\n",
    "from discopy.utils import dumps, loads\n",
    "\n",
    "input_file = \"simple_examples/cat.sql\"\n",
    "\n",
    "input_stream = FileStream(input_file)\n",
    "lexer = SQLiteLexer(input_stream)\n",
    "stream = CommonTokenStream(lexer)\n",
    "parser = SQLiteParser(stream)\n",
    "tree = parser.parse()\n",
    "\n",
    "print(\"Whole parse tree: \")\n",
    "print(tree.toStringTree(recog=parser))"
   ]
  },
  {
   "cell_type": "markdown",
   "id": "0a1cfaad-e0f4-4b1c-b5db-279ebc39126a",
   "metadata": {},
   "source": [
    "## Diagrammatic representation of SQL language elements in context free grammar"
   ]
  },
  {
   "cell_type": "markdown",
   "id": "edd82ed2-3a53-4b18-9190-d7bba64ea1d7",
   "metadata": {},
   "source": [
    "We walk the tree and collect the elements in a monoidal category. This creates a diagrammatic representation for the parsed SQL query. `SQLiteParserListener` class implements DisCoPy construction. First we collect the abstract parse tree but we also modify it so that we collect SELECT and the columns into the same element, FROM and tables into the same element and WHERE and the filtering clauses into the same element. This interpretation follows the [railroad diagram representation](https://www.sqlite.org/syntaxdiagrams.html#select-core) more accurately than the current parsing. It also enables us to map the parse tree correctly later."
   ]
  },
  {
   "cell_type": "code",
   "execution_count": null,
   "id": "4b74b4a5-64fd-47f9-844b-a22d4a820217",
   "metadata": {},
   "outputs": [],
   "source": [
    "this_folder = os.path.abspath(os.getcwd())\n",
    "total_dim = 0\n",
    "walker = ParseTreeWalker()\n",
    "listener = SQLiteParserListener(parser)\n",
    "walker.walk(listener, tree)\n",
    "diagram = listener.get_final_diagram()\n",
    "width = diagram.width()\n",
    "height = diagram.depth()\n",
    "dim = 4*max(width, height)\n",
    "total_dim += dim"
   ]
  },
  {
   "cell_type": "code",
   "execution_count": null,
   "id": "74963b6b-89aa-4014-96cb-f325256c7d55",
   "metadata": {},
   "outputs": [],
   "source": [
    "# figsize=(30, 20), fontsize = 17, fontsize_types = 17, scale = (0.8, 1),\n",
    "diagram.draw(path = this_folder + \"\\\\figures\\\\paper_figures\\\\CFG_diagram_cat_example.tex\", to_tikz = True)"
   ]
  },
  {
   "cell_type": "markdown",
   "id": "bd39455e-ab1f-4914-86bd-8a3beeb1d28f",
   "metadata": {},
   "source": [
    "## Map context free grammar representations to pregroup representations"
   ]
  },
  {
   "cell_type": "markdown",
   "id": "86ea88f3-dfa6-4bd0-92f2-9338fe7cb1b3",
   "metadata": {},
   "source": [
    "Because the abstract syntax tree contains lots of unnecessary information for our purposes, we will functorially rewrite it. This functorial rewriting process is just something that we have developed especially for this work and it is open to discussion if there exists a more suitable rewrite mapping. Also, the parts `select_main`, `from_main` and `where_main` are especially designed for this work although they are visible in the SQLite railroad diagrams without any special name.\n",
    "\n",
    "Functor simply describes how the boxes and types are mapped. In this rewriting process we want to simplify the abstract syntax tree."
   ]
  },
  {
   "cell_type": "code",
   "execution_count": null,
   "id": "1de83c86-6926-416d-ba1e-e79f260a353e",
   "metadata": {},
   "outputs": [],
   "source": [
    "#from cfg_alias_rewriting_mappings import alias_object_mapping, alias_morphism_mapping\n",
    "\n",
    "#Rewriter = Functor(ob = lambda x: alias_object_mapping(x), ar = lambda f: alias_morphism_mapping(f))\n",
    "#cfg_diagram = Rewriter(diagram)\n",
    "#cfg_diagram.draw(figsize=(15, 15)) #, path = this_folder + \"\\\\figures\\\\pregroup_figure.png\")\n",
    "\n",
    "#back_n_forth = lambda f: hypergraph.Diagram.upgrade(f).downgrade()\n",
    "#back_n_forth(cfg_diagram).draw(figsize=(15, 15))"
   ]
  },
  {
   "cell_type": "code",
   "execution_count": null,
   "id": "cc4f9424-7bc7-4761-a8ab-3d646afbb230",
   "metadata": {},
   "outputs": [],
   "source": [
    "from pregroupFunctorMappings import count_boxes, object_mapping, arrow_mapping\n",
    "\n",
    "num_of_result_columns = count_boxes(diagram, \"result-column\")\n",
    "num_of_result_columns += count_boxes(diagram, \"result-column-with-alias\")\n",
    "num_of_tables = count_boxes(diagram, \"table\")\n",
    "num_of_tables += count_boxes(diagram, \"table-with-alias\")\n",
    "\n",
    "Rewriter = Functor(ob = lambda x: object_mapping(x, num_of_result_columns, num_of_tables), ar = lambda f: arrow_mapping(f, num_of_result_columns, num_of_tables))\n",
    "pregroup_diagram = Rewriter(diagram)\n",
    "width = pregroup_diagram.width()\n",
    "height = pregroup_diagram.depth()\n",
    "dim = 3*max(width, height)\n",
    "total_dim += dim"
   ]
  },
  {
   "cell_type": "code",
   "execution_count": null,
   "id": "1c6ca9c8-d760-424d-90da-0c0fb1d4b77a",
   "metadata": {},
   "outputs": [],
   "source": [
    "print(dim)\n",
    "pregroup_diagram.draw(figsize=(23, 22), fontsize = 17, fontsize_types = 17, scale = (0.5, 1), path = this_folder + \"\\\\figures\\\\paper_figures\\\\pregroup_diagram_cat_example.tex\", to_tikz = True)"
   ]
  },
  {
   "cell_type": "markdown",
   "id": "4ccc75ce-a7a0-4f36-bf0c-541b28f59d49",
   "metadata": {},
   "source": [
    "## Convert pregroup representations to circuits"
   ]
  },
  {
   "cell_type": "markdown",
   "id": "c8ea4eb3-b2af-4698-9625-9022625eac8a",
   "metadata": {},
   "source": [
    "Following the ideas of the paper A Quantum Natural Language Processing Approach to Musical Intelligence, we can reduce the number of qubits by rewriting the diagram and removing cups."
   ]
  },
  {
   "cell_type": "markdown",
   "id": "297ddf64-3170-47f0-bddc-eb135501d63a",
   "metadata": {},
   "source": [
    "An assumption is that every box contains a connection to a cup. On the other hand, the SELECT-box does not need to be changed. Thus for every box (which is not a cup or the select box) we \"raise the first leg on top of the box\". This process creates snakes which the normalization process automatically removes. This rewriting process ensures that the cups are removed from the diagram and we can use less qubits."
   ]
  },
  {
   "cell_type": "code",
   "execution_count": null,
   "id": "e303d21a-98ea-47ce-a8b2-c4b7c76401b8",
   "metadata": {},
   "outputs": [],
   "source": [
    "def cup_remove_arrow_mapping(box):\n",
    "    if box.name.lower() == 'select':\n",
    "        return box\n",
    "    elif not box.cod:\n",
    "        domain = box.dom\n",
    "        raised_leg = Ty(domain[0])\n",
    "        new_domain = reduce(lambda x, y : x @ Ty(y), domain[1:], Ty())\n",
    "        new_box = Id(raised_leg) @ Box(box.name, new_domain, raised_leg.l)\\\n",
    "        >> Cup(raised_leg, raised_leg.l)\n",
    "        return new_box\n",
    "    return box\n",
    "\n",
    "def cup_remove_arrow_mapping2(box):\n",
    "    if box.cod == box.dom == Ty('n'):\n",
    "        return Id(box.cod)\n",
    "    return box\n",
    "\n",
    "cup_removal_functor = Functor(ob = lambda x: x, ar = lambda f: cup_remove_arrow_mapping(f))\n",
    "cup_removal_functor2 = Functor(ob = lambda x: x, ar = lambda f: cup_remove_arrow_mapping2(f))"
   ]
  },
  {
   "cell_type": "code",
   "execution_count": null,
   "id": "7b86c495-6ef1-44c0-b4b0-d255fa7c1da5",
   "metadata": {},
   "outputs": [],
   "source": [
    "cupless_pregroup_diagram = cup_removal_functor(pregroup_diagram.normal_form()).normal_form()\n",
    "cupless_pregroup_diagram = cup_removal_functor2(cupless_pregroup_diagram).normal_form()\n",
    "width = cupless_pregroup_diagram.width()\n",
    "height = cupless_pregroup_diagram.depth()\n",
    "dim = 3*max(width, height)\n",
    "total_dim += dim"
   ]
  },
  {
   "cell_type": "code",
   "execution_count": null,
   "id": "8a6fc10f-6aa7-41b7-9d87-8d4467efc38f",
   "metadata": {},
   "outputs": [],
   "source": [
    "print(dim)\n",
    "cupless_pregroup_diagram.draw(figsize=(dim, dim), fontsize = 17, fontsize_types = 17, scale = (1,1), path = this_folder + \"\\\\figures\\\\paper_figures\\\\cup_removed_pregroup_diagram_cat_example.tex\", to_tikz = True)"
   ]
  },
  {
   "cell_type": "code",
   "execution_count": null,
   "id": "837e91a3-2f76-4d85-8bdf-4f63f4df0b5c",
   "metadata": {},
   "outputs": [],
   "source": [
    "cup_removed_pregroup_folder_name = \"join-order-benchmark-diagrams//cup-removed-pregroup-diagrams\"\n",
    "with open(this_folder + \"\\\\\" + cup_removed_pregroup_folder_name + \"\\\\\" + \"4b\" + \".json\", 'w') as outfile:\n",
    "    json.dump(json.loads(dumps(cupless_pregroup_diagram)), outfile)"
   ]
  },
  {
   "cell_type": "markdown",
   "id": "abcb338a-b0de-412d-a409-7c8599d0e35d",
   "metadata": {},
   "source": [
    "### Pregroup grammar to circuit ansatz functor"
   ]
  },
  {
   "cell_type": "code",
   "execution_count": null,
   "id": "97d6d5a1-a812-4fd2-b37d-a7832ae225b9",
   "metadata": {},
   "outputs": [],
   "source": [
    "n, s = Ty('n'), Ty('s')\n",
    "ansatz = IQPAnsatzFlipped({n: 1, s: 1}, n_layers=1, n_single_qubit_params=1)\n",
    "circuit_diagram = ansatz(cupless_pregroup_diagram)\n",
    "width = circuit_diagram.width()\n",
    "height = circuit_diagram.depth()\n",
    "dim = 0.9*max(width, height)\n",
    "total_dim += dim"
   ]
  },
  {
   "cell_type": "code",
   "execution_count": null,
   "id": "e9cf208a-f044-4523-be98-8a4aca8bc810",
   "metadata": {},
   "outputs": [],
   "source": [
    "print(dim)\n",
    "circuit_diagram.draw(figsize=(15, 20), fontsize = 17, fontsize_types = 17, scale = (0.6,0.7), path = this_folder + \"\\\\figures\\\\paper_figures\\\\circuit_diagram_cat_example.png\")"
   ]
  },
  {
   "cell_type": "markdown",
   "id": "ba93ad64-212d-407e-bdd8-e405195f9151",
   "metadata": {},
   "source": [
    "## Draw process in single figure"
   ]
  },
  {
   "cell_type": "code",
   "execution_count": null,
   "id": "0c2f2fc2-6d50-434c-90c1-7cd9beb900f6",
   "metadata": {},
   "outputs": [],
   "source": [
    "from discopy.drawing import equation\n",
    "\n",
    "equation_diagram = equation(diagram, \n",
    "                            cupless_pregroup_diagram, \n",
    "                            circuit_diagram, \n",
    "                            symbol = '→', \n",
    "                            fontsize = 12,\n",
    "                            figsize=(23, 9),\n",
    "                            fontsize_types = 12, \n",
    "                            path = this_folder + \"\\\\figures\\\\cat_equation.png\",\n",
    "                            scale = (1.2, 0.7),\n",
    "                            pad = (0,0),\n",
    "                            draw_type_labels = False)"
   ]
  },
  {
   "cell_type": "markdown",
   "id": "f15c66c3-441c-43f3-bfbd-ddef7b506b8c",
   "metadata": {},
   "source": [
    "## Transforming circuit in Pennylane"
   ]
  },
  {
   "cell_type": "code",
   "execution_count": 14,
   "id": "8c27c68a-fbef-4734-adb1-b8a3bada0886",
   "metadata": {},
   "outputs": [
    {
     "name": "stdout",
     "output_type": "stream",
     "text": [
      "[[6.28318530717959*WHERE_s@n.l_n_0], [6.28318530717959*favourite_food__n.l_0], [6.28318530717959*cat_name__n.l_0], [6.28318530717959*cats__n.l_0], [6.28318530717959*'Whiskers'__n.l_0], [6.28318530717959*cat_name__n.l_0], [6.28318530717959*FROM_n@n.l_n_1], [6.28318530717959*=_n.l@n.l_n.l_0], [6.28318530717959*=_n.l@n.l_n.l_1], [6.28318530717959*=_n.l@n.l_n.l_0], [], [], [6.28318530717959*WHERE_s@n.l_n_1], [6.28318530717959*WHERE_s@n.l_n_0], [], [], [6.28318530717959*FROM_n@n.l_n_0], [6.28318530717959*FROM_n@n.l_n_0], [], [], [6.28318530717959*SELECT_n@n.l@n.l__0], [], [6.28318530717959*SELECT_n@n.l@n.l__1], [], []]\n",
      "<list_reverseiterator object at 0x000001FF263EC700>\n"
     ]
    }
   ],
   "source": [
    "dev = qml.device(\"qiskit.aer\", wires=6, backend='unitary_simulator')\n",
    "\n",
    "#symbols = set([elem for c in all_circuits for elem in all_circuits[c].free_symbols])\n",
    "symbols = list(sorted(circuit_diagram.free_symbols, key=default_sort_key))\n",
    "\n",
    "pennylane_circuit = to_pennylane(circuit_diagram)\n",
    "params = pennylane_circuit.params\n",
    "print(params)\n",
    "\n",
    "ops = pennylane_circuit.ops\n",
    "param_symbols = [[sym[0].as_ordered_factors()[1]] if len(sym) > 0 else [] for sym in params]\n",
    "pennylane_wires = pennylane_circuit.wires\n",
    "\n",
    "circuit_elements = reversed(list(zip(ops, param_symbols, pennylane_wires)))\n",
    "print(circuit_elements)\n",
    "\n",
    "symbol_to_index = {}\n",
    "for sym in param_symbols:\n",
    "    if len(sym) > 0:\n",
    "        symbol_to_index[sym[0]] = symbols.index(sym[0])\n",
    "\n",
    "@qml.qnode(dev)\n",
    "def qml_circuit(circ_params):\n",
    "    for op, param, wires in circuit_elements:\n",
    "        if len(param) > 0:\n",
    "            param = param[0]\n",
    "            op(circ_params[symbol_to_index[param]], wires = wires)\n",
    "        else:\n",
    "            op(wires = wires)\n",
    "    return qml.sample()"
   ]
  },
  {
   "cell_type": "code",
   "execution_count": 15,
   "id": "70a000c5-e2fa-4a2a-91cb-161c3479a858",
   "metadata": {},
   "outputs": [
    {
     "name": "stdout",
     "output_type": "stream",
     "text": [
      "\\documentclass[border=2px]{standalone}\n",
      "\n",
      "\\usepackage[braket, qm]{qcircuit}\n",
      "\\usepackage{graphicx}\n",
      "\n",
      "\\begin{document}\n",
      "\\scalebox{1.0}{\n",
      "\\Qcircuit @C=1.0em @R=0.2em @!R { \\\\\n",
      "\t \t\\nghost{{q}_{0} :  } & \\lstick{{q}_{0} :  } & \\gate{\\mathrm{H}} & \\qw & \\ctrl{1} & \\gate{\\mathrm{H}} & \\ctrl{3} & \\gate{\\mathrm{R_X}\\,(\\mathrm{0.5257})} & \\gate{\\mathrm{H}} & \\ctrl{4} & \\gate{\\mathrm{R_X}\\,(\\mathrm{0.6727})} & \\qw & \\qw & \\qw & \\qw & \\qw & \\qw\\\\\n",
      "\t \t\\nghost{{q}_{1} :  } & \\lstick{{q}_{1} :  } & \\gate{\\mathrm{H}} & \\ctrl{1} & \\gate{\\mathrm{R_Z}\\,(\\mathrm{4.471})} & \\gate{\\mathrm{R_X}\\,(\\mathrm{4.255})} & \\qw & \\qw & \\qw & \\qw & \\qw & \\qw & \\qw & \\qw & \\qw & \\qw & \\qw\\\\\n",
      "\t \t\\nghost{{q}_{2} :  } & \\lstick{{q}_{2} :  } & \\gate{\\mathrm{H}} & \\gate{\\mathrm{R_Z}\\,(\\mathrm{0.2589})} & \\gate{\\mathrm{R_X}\\,(\\mathrm{1.956})} & \\qw & \\qw & \\qw & \\qw & \\qw & \\qw & \\qw & \\qw & \\qw & \\qw & \\qw & \\qw\\\\\n",
      "\t \t\\nghost{{q}_{3} :  } & \\lstick{{q}_{3} :  } & \\gate{\\mathrm{H}} & \\qw & \\qw & \\qw & \\gate{\\mathrm{R_Z}\\,(\\mathrm{0.5257})} & \\gate{\\mathrm{R_X}\\,(\\mathrm{1.331})} & \\gate{\\mathrm{R_X}\\,(\\mathrm{4.703})} & \\qw & \\qw & \\qw & \\qw & \\qw & \\qw & \\qw & \\qw\\\\\n",
      "\t \t\\nghost{{q}_{4} :  } & \\lstick{{q}_{4} :  } & \\gate{\\mathrm{H}} & \\qw & \\qw & \\qw & \\qw & \\qw & \\qw & \\gate{\\mathrm{R_Z}\\,(\\mathrm{0.6727})} & \\gate{\\mathrm{R_X}\\,(\\mathrm{3.261})} & \\gate{\\mathrm{H}} & \\ctrl{1} & \\gate{\\mathrm{R_X}\\,(\\mathrm{1.042})} & \\gate{\\mathrm{R_X}\\,(\\mathrm{4.272})} & \\qw & \\qw\\\\\n",
      "\t \t\\nghost{{q}_{5} :  } & \\lstick{{q}_{5} :  } & \\gate{\\mathrm{H}} & \\qw & \\qw & \\qw & \\qw & \\qw & \\qw & \\qw & \\qw & \\qw & \\gate{\\mathrm{R_Z}\\,(\\mathrm{1.042})} & \\gate{\\mathrm{R_X}\\,(\\mathrm{0.4325})} & \\gate{\\mathrm{R_X}\\,(\\mathrm{1.956})} & \\qw & \\qw\\\\\n",
      "\t \t\\nghost{\\mathrm{{c} :  }} & \\lstick{\\mathrm{{c} :  }} & \\lstick{/_{_{6}}} \\cw & \\cw & \\cw & \\cw & \\cw & \\cw & \\cw & \\cw & \\cw & \\cw & \\cw & \\cw & \\cw & \\cw & \\cw\\\\\n",
      "\\\\ }}\n",
      "\\end{document}\n"
     ]
    }
   ],
   "source": [
    "\n",
    "params = [2*np.pi*random.uniform(0, 1) for i in range(len(symbols))]\n",
    "qml_circuit(params)\n",
    "print(dev._circuit.draw(output = \"latex_source\"))"
   ]
  }
 ],
 "metadata": {
  "kernelspec": {
   "display_name": "Python 3 (ipykernel)",
   "language": "python",
   "name": "python3"
  },
  "language_info": {
   "codemirror_mode": {
    "name": "ipython",
    "version": 3
   },
   "file_extension": ".py",
   "mimetype": "text/x-python",
   "name": "python",
   "nbconvert_exporter": "python",
   "pygments_lexer": "ipython3",
   "version": "3.10.8"
  }
 },
 "nbformat": 4,
 "nbformat_minor": 5
}
