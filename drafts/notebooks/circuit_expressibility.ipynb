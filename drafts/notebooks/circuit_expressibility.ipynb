{
 "cells": [
  {
   "cell_type": "markdown",
   "id": "3b090918-c886-4aa3-9caf-99f78031b03f",
   "metadata": {},
   "source": [
    "# Expressibility and engtangling capability"
   ]
  },
  {
   "cell_type": "code",
   "execution_count": 15,
   "id": "6d10ac1b-81bb-4699-a47e-0c73f925caea",
   "metadata": {},
   "outputs": [],
   "source": [
    "import os\n",
    "import warnings\n",
    "import json\n",
    "import sys\n",
    "import glob\n",
    "import numpy\n",
    "import pickle\n",
    "import random\n",
    "import collections\n",
    "import pennylane as qml\n",
    "import matplotlib\n",
    "import matplotlib.pyplot as plt\n",
    "import torch\n",
    "import numpy as np\n",
    "import csv\n",
    "\n",
    "from discopy.quantum.pennylane import to_pennylane, PennyLaneCircuit\n",
    "from scipy.special import kl_div\n",
    "from math import ceil\n",
    "from pathlib import Path\n",
    "from sympy import default_sort_key\n",
    "from utils import transform_into_pennylane_circuits, read_diagrams, get_symbols, flatten\n",
    "from qiskit.quantum_info import partial_trace, Statevector\n",
    "\n",
    "this_folder = os.path.abspath(os.getcwd())\n",
    "nshot = 1000\n",
    "fidelity=[]"
   ]
  },
  {
   "cell_type": "code",
   "execution_count": null,
   "id": "03e72a4d-c656-4648-92d1-931282cd4561",
   "metadata": {},
   "outputs": [],
   "source": [
    "num_of_bins = 75\n",
    "bins_list = [i/(num_of_bins) for i in range(num_of_bins + 1)]\n",
    "bins_x = [bins_list[1]+bins_list[i] for i in range(num_of_bins - 1)]\n",
    "\n",
    "def P_harr(l, u, N):\n",
    "    return (1-l)**(N-1)-(1-u)**(N-1)\n",
    "\n",
    "#Harr histogram\n",
    "P_harr_hist = [P_harr(bins_list[i], bins_list[i+1], 2) for i in range(num_of_bins)]"
   ]
  },
  {
   "cell_type": "code",
   "execution_count": null,
   "id": "fdb0c878-452a-4828-a2d6-c8018fdd14f2",
   "metadata": {},
   "outputs": [],
   "source": [
    "workload = \"execution_time\"\n",
    "#workload = \"cardinality\"\n",
    "\n",
    "workload_size = \"main\"\n",
    "\n",
    "classification = 1\n",
    "layers = 1\n",
    "single_qubit_params = 3\n",
    "n_wire_count = 1\n",
    "\n",
    "# Access the selected circuits\n",
    "path_name = this_folder + \"//simplified-JOB-diagrams//\"\\\n",
    "            + workload + \"//\" + workload_size + \"//circuits//\"\\\n",
    "            + str(classification) + \"//\" + str(layers) + \"_layer//\"\\\n",
    "           + str(single_qubit_params) + \"_single_qubit_params//\" + str(n_wire_count)\\\n",
    "            + \"_n_wire_count//\""
   ]
  },
  {
   "cell_type": "code",
   "execution_count": null,
   "id": "5b12a6fc-0488-424d-8ffa-e2e8a37f7909",
   "metadata": {},
   "outputs": [],
   "source": [
    "training_circuits_paths = glob.glob(path_name + \"training//[0-9]*.p\")\n",
    "validation_circuits_paths = glob.glob(path_name + \"validation//[0-9]*.p\")\n",
    "test_circuits_paths = glob.glob(path_name + \"test//[0-9]*.p\")"
   ]
  },
  {
   "cell_type": "code",
   "execution_count": null,
   "id": "ed7b7e53-8c96-4651-aa54-8d2d1212e00f",
   "metadata": {},
   "outputs": [],
   "source": [
    "training_circuits = read_diagrams(training_circuits_paths)\n",
    "validation_circuits = read_diagrams(validation_circuits_paths)\n",
    "test_circuits = read_diagrams(test_circuits_paths)"
   ]
  },
  {
   "cell_type": "markdown",
   "id": "4c4ad5ea-8822-4d37-aa2c-ed8363529b0b",
   "metadata": {},
   "source": [
    "## Expressibility"
   ]
  },
  {
   "cell_type": "code",
   "execution_count": null,
   "id": "1fb73fc7-875b-4b1a-976b-a7e45e2444d6",
   "metadata": {},
   "outputs": [],
   "source": [
    "fidelity = []\n",
    "with open('results//fidelity_execution_time_1_1_3_1_main_correct.pickle', 'rb') as handle:\n",
    "    fidelity = pickle.load(handle)"
   ]
  },
  {
   "cell_type": "raw",
   "id": "fe6fa5de-9a8f-4597-b1c1-4c040eb5a069",
   "metadata": {},
   "source": [
    "circuits = training_circuits\n",
    "\n",
    "for x in range(10):\n",
    "    print(\"Progress:\", x)\n",
    "    for c in circuits:\n",
    "        disco_circuit = circuits[c]\n",
    "        qml_circuit = to_pennylane(disco_circuit, probabilities = True)\n",
    "        current_symbols = disco_circuit.free_symbols\n",
    "        current_symbols = list(sorted(current_symbols, key=default_sort_key))\n",
    "        params = torch.Tensor([[2*np.pi*random.uniform(0, 1)] for i in range(len(current_symbols))]) \n",
    "        result = qml_circuit.eval(symbols=current_symbols, weights=params)\n",
    "        result = [float(t) for t in result]\n",
    "        #print(result)\n",
    "        fidelity.append(result[0]/sum(result))"
   ]
  },
  {
   "cell_type": "raw",
   "id": "4ad8bd3e-f661-4a27-bc28-95a36efce2c4",
   "metadata": {},
   "outputs": [
    {
     "name": "stdout",
     "output_type": "stream",
     "text": [
      "tensor(0.0004, dtype=torch.float64)\n"
     ]
    }
   ],
   "source": [
    "print(fidelity[2])"
   ]
  },
  {
   "cell_type": "code",
   "execution_count": null,
   "id": "a9f1f9f2",
   "metadata": {},
   "outputs": [],
   "source": [
    "fidelity = [int(t) for t in fidelity]"
   ]
  },
  {
   "cell_type": "code",
   "execution_count": 7,
   "id": "1c788364-bd00-4867-8bca-239171dc9973",
   "metadata": {},
   "outputs": [
    {
     "ename": "ValueError",
     "evalue": "weights should have the same shape as x",
     "output_type": "error",
     "traceback": [
      "\u001b[0;31m---------------------------------------------------------------------------\u001b[0m",
      "\u001b[0;31mValueError\u001b[0m                                Traceback (most recent call last)",
      "\u001b[0;32m/tmp/ipykernel_3785/2474066608.py\u001b[0m in \u001b[0;36m<module>\u001b[0;34m\u001b[0m\n\u001b[1;32m      1\u001b[0m \u001b[0mweights\u001b[0m \u001b[0;34m=\u001b[0m \u001b[0mnumpy\u001b[0m\u001b[0;34m.\u001b[0m\u001b[0mones_like\u001b[0m\u001b[0;34m(\u001b[0m\u001b[0mfidelity\u001b[0m\u001b[0;34m)\u001b[0m\u001b[0;34m/\u001b[0m\u001b[0mfloat\u001b[0m\u001b[0;34m(\u001b[0m\u001b[0mlen\u001b[0m\u001b[0;34m(\u001b[0m\u001b[0mfidelity\u001b[0m\u001b[0;34m)\u001b[0m\u001b[0;34m)\u001b[0m\u001b[0;34m\u001b[0m\u001b[0;34m\u001b[0m\u001b[0m\n\u001b[0;32m----> 2\u001b[0;31m \u001b[0mplt\u001b[0m\u001b[0;34m.\u001b[0m\u001b[0mhist\u001b[0m\u001b[0;34m(\u001b[0m\u001b[0mfidelity\u001b[0m\u001b[0;34m,\u001b[0m \u001b[0mbins\u001b[0m\u001b[0;34m=\u001b[0m\u001b[0mbins_list\u001b[0m\u001b[0;34m,\u001b[0m \u001b[0mweights\u001b[0m\u001b[0;34m=\u001b[0m\u001b[0mweights\u001b[0m\u001b[0;34m,\u001b[0m \u001b[0mlabel\u001b[0m\u001b[0;34m=\u001b[0m\u001b[0;34m'Result'\u001b[0m\u001b[0;34m,\u001b[0m \u001b[0mrange\u001b[0m\u001b[0;34m=\u001b[0m\u001b[0;34m[\u001b[0m\u001b[0;36m0\u001b[0m\u001b[0;34m,\u001b[0m \u001b[0;36m1\u001b[0m\u001b[0;34m]\u001b[0m\u001b[0;34m)\u001b[0m\u001b[0;34m\u001b[0m\u001b[0;34m\u001b[0m\u001b[0m\n\u001b[0m\u001b[1;32m      3\u001b[0m \u001b[0mplt\u001b[0m\u001b[0;34m.\u001b[0m\u001b[0mplot\u001b[0m\u001b[0;34m(\u001b[0m\u001b[0mbins_x\u001b[0m\u001b[0;34m,\u001b[0m \u001b[0mP_harr_hist\u001b[0m\u001b[0;34m[\u001b[0m\u001b[0;34m:\u001b[0m\u001b[0;34m-\u001b[0m\u001b[0;36m1\u001b[0m\u001b[0;34m]\u001b[0m\u001b[0;34m,\u001b[0m \u001b[0mlabel\u001b[0m\u001b[0;34m=\u001b[0m\u001b[0;34m'Harr random'\u001b[0m\u001b[0;34m)\u001b[0m\u001b[0;34m\u001b[0m\u001b[0;34m\u001b[0m\u001b[0m\n\u001b[1;32m      4\u001b[0m \u001b[0mplt\u001b[0m\u001b[0;34m.\u001b[0m\u001b[0mlegend\u001b[0m\u001b[0;34m(\u001b[0m\u001b[0mloc\u001b[0m\u001b[0;34m=\u001b[0m\u001b[0;34m'upper right'\u001b[0m\u001b[0;34m)\u001b[0m\u001b[0;34m\u001b[0m\u001b[0;34m\u001b[0m\u001b[0m\n\u001b[1;32m      5\u001b[0m \u001b[0mplt\u001b[0m\u001b[0;34m.\u001b[0m\u001b[0mshow\u001b[0m\u001b[0;34m(\u001b[0m\u001b[0;34m)\u001b[0m\u001b[0;34m\u001b[0m\u001b[0;34m\u001b[0m\u001b[0m\n",
      "\u001b[0;32m/usr/lib/python3/dist-packages/matplotlib/pyplot.py\u001b[0m in \u001b[0;36mhist\u001b[0;34m(x, bins, range, density, weights, cumulative, bottom, histtype, align, orientation, rwidth, log, color, label, stacked, data, **kwargs)\u001b[0m\n\u001b[1;32m   2588\u001b[0m         \u001b[0morientation\u001b[0m\u001b[0;34m=\u001b[0m\u001b[0;34m'vertical'\u001b[0m\u001b[0;34m,\u001b[0m \u001b[0mrwidth\u001b[0m\u001b[0;34m=\u001b[0m\u001b[0;32mNone\u001b[0m\u001b[0;34m,\u001b[0m \u001b[0mlog\u001b[0m\u001b[0;34m=\u001b[0m\u001b[0;32mFalse\u001b[0m\u001b[0;34m,\u001b[0m \u001b[0mcolor\u001b[0m\u001b[0;34m=\u001b[0m\u001b[0;32mNone\u001b[0m\u001b[0;34m,\u001b[0m\u001b[0;34m\u001b[0m\u001b[0;34m\u001b[0m\u001b[0m\n\u001b[1;32m   2589\u001b[0m         label=None, stacked=False, *, data=None, **kwargs):\n\u001b[0;32m-> 2590\u001b[0;31m     return gca().hist(\n\u001b[0m\u001b[1;32m   2591\u001b[0m         \u001b[0mx\u001b[0m\u001b[0;34m,\u001b[0m \u001b[0mbins\u001b[0m\u001b[0;34m=\u001b[0m\u001b[0mbins\u001b[0m\u001b[0;34m,\u001b[0m \u001b[0mrange\u001b[0m\u001b[0;34m=\u001b[0m\u001b[0mrange\u001b[0m\u001b[0;34m,\u001b[0m \u001b[0mdensity\u001b[0m\u001b[0;34m=\u001b[0m\u001b[0mdensity\u001b[0m\u001b[0;34m,\u001b[0m \u001b[0mweights\u001b[0m\u001b[0;34m=\u001b[0m\u001b[0mweights\u001b[0m\u001b[0;34m,\u001b[0m\u001b[0;34m\u001b[0m\u001b[0;34m\u001b[0m\u001b[0m\n\u001b[1;32m   2592\u001b[0m         \u001b[0mcumulative\u001b[0m\u001b[0;34m=\u001b[0m\u001b[0mcumulative\u001b[0m\u001b[0;34m,\u001b[0m \u001b[0mbottom\u001b[0m\u001b[0;34m=\u001b[0m\u001b[0mbottom\u001b[0m\u001b[0;34m,\u001b[0m \u001b[0mhisttype\u001b[0m\u001b[0;34m=\u001b[0m\u001b[0mhisttype\u001b[0m\u001b[0;34m,\u001b[0m\u001b[0;34m\u001b[0m\u001b[0;34m\u001b[0m\u001b[0m\n",
      "\u001b[0;32m/usr/lib/python3/dist-packages/matplotlib/__init__.py\u001b[0m in \u001b[0;36minner\u001b[0;34m(ax, data, *args, **kwargs)\u001b[0m\n\u001b[1;32m   1414\u001b[0m     \u001b[0;32mdef\u001b[0m \u001b[0minner\u001b[0m\u001b[0;34m(\u001b[0m\u001b[0max\u001b[0m\u001b[0;34m,\u001b[0m \u001b[0;34m*\u001b[0m\u001b[0margs\u001b[0m\u001b[0;34m,\u001b[0m \u001b[0mdata\u001b[0m\u001b[0;34m=\u001b[0m\u001b[0;32mNone\u001b[0m\u001b[0;34m,\u001b[0m \u001b[0;34m**\u001b[0m\u001b[0mkwargs\u001b[0m\u001b[0;34m)\u001b[0m\u001b[0;34m:\u001b[0m\u001b[0;34m\u001b[0m\u001b[0;34m\u001b[0m\u001b[0m\n\u001b[1;32m   1415\u001b[0m         \u001b[0;32mif\u001b[0m \u001b[0mdata\u001b[0m \u001b[0;32mis\u001b[0m \u001b[0;32mNone\u001b[0m\u001b[0;34m:\u001b[0m\u001b[0;34m\u001b[0m\u001b[0;34m\u001b[0m\u001b[0m\n\u001b[0;32m-> 1416\u001b[0;31m             \u001b[0;32mreturn\u001b[0m \u001b[0mfunc\u001b[0m\u001b[0;34m(\u001b[0m\u001b[0max\u001b[0m\u001b[0;34m,\u001b[0m \u001b[0;34m*\u001b[0m\u001b[0mmap\u001b[0m\u001b[0;34m(\u001b[0m\u001b[0msanitize_sequence\u001b[0m\u001b[0;34m,\u001b[0m \u001b[0margs\u001b[0m\u001b[0;34m)\u001b[0m\u001b[0;34m,\u001b[0m \u001b[0;34m**\u001b[0m\u001b[0mkwargs\u001b[0m\u001b[0;34m)\u001b[0m\u001b[0;34m\u001b[0m\u001b[0;34m\u001b[0m\u001b[0m\n\u001b[0m\u001b[1;32m   1417\u001b[0m \u001b[0;34m\u001b[0m\u001b[0m\n\u001b[1;32m   1418\u001b[0m         \u001b[0mbound\u001b[0m \u001b[0;34m=\u001b[0m \u001b[0mnew_sig\u001b[0m\u001b[0;34m.\u001b[0m\u001b[0mbind\u001b[0m\u001b[0;34m(\u001b[0m\u001b[0max\u001b[0m\u001b[0;34m,\u001b[0m \u001b[0;34m*\u001b[0m\u001b[0margs\u001b[0m\u001b[0;34m,\u001b[0m \u001b[0;34m**\u001b[0m\u001b[0mkwargs\u001b[0m\u001b[0;34m)\u001b[0m\u001b[0;34m\u001b[0m\u001b[0;34m\u001b[0m\u001b[0m\n",
      "\u001b[0;32m/usr/lib/python3/dist-packages/matplotlib/axes/_axes.py\u001b[0m in \u001b[0;36mhist\u001b[0;34m(self, x, bins, range, density, weights, cumulative, bottom, histtype, align, orientation, rwidth, log, color, label, stacked, **kwargs)\u001b[0m\n\u001b[1;32m   6578\u001b[0m \u001b[0;34m\u001b[0m\u001b[0m\n\u001b[1;32m   6579\u001b[0m         \u001b[0;32mif\u001b[0m \u001b[0mlen\u001b[0m\u001b[0;34m(\u001b[0m\u001b[0mw\u001b[0m\u001b[0;34m)\u001b[0m \u001b[0;34m!=\u001b[0m \u001b[0mnx\u001b[0m\u001b[0;34m:\u001b[0m\u001b[0;34m\u001b[0m\u001b[0;34m\u001b[0m\u001b[0m\n\u001b[0;32m-> 6580\u001b[0;31m             \u001b[0;32mraise\u001b[0m \u001b[0mValueError\u001b[0m\u001b[0;34m(\u001b[0m\u001b[0;34m'weights should have the same shape as x'\u001b[0m\u001b[0;34m)\u001b[0m\u001b[0;34m\u001b[0m\u001b[0;34m\u001b[0m\u001b[0m\n\u001b[0m\u001b[1;32m   6581\u001b[0m \u001b[0;34m\u001b[0m\u001b[0m\n\u001b[1;32m   6582\u001b[0m         \u001b[0minput_empty\u001b[0m \u001b[0;34m=\u001b[0m \u001b[0;32mTrue\u001b[0m\u001b[0;34m\u001b[0m\u001b[0;34m\u001b[0m\u001b[0m\n",
      "\u001b[0;31mValueError\u001b[0m: weights should have the same shape as x"
     ]
    },
    {
     "data": {
      "image/png": "[encoded data removed]",
      "text/plain": [
       "<Figure size 432x288 with 1 Axes>"
      ]
     },
     "metadata": {
      "needs_background": "light"
     },
     "output_type": "display_data"
    }
   ],
   "source": [
    "weights = numpy.ones_like(fidelity)/float(len(fidelity))\n",
    "res = plt.hist(fidelity, bins=bins_list, weights=weights, label='Result', range=[0, 1])\n",
    "plt.plot(bins_x, P_harr_hist[:-1], label='Harr random')\n",
    "plt.legend(loc='upper right')\n",
    "plt.show()"
   ]
  },
  {
   "cell_type": "code",
   "execution_count": null,
   "id": "5e48efa4-c480-45b0-92e9-580f7e78040c",
   "metadata": {},
   "outputs": [],
   "source": [
    "P_I_hist = numpy.histogram(fidelity, bins = bins_list, weights = weights, range=[0, 1])[0]\n",
    "kl_pq = kl_div(P_I_hist, P_harr_hist)\n",
    "print('KL(P || Q): %.3f nats' % sum(kl_pq))"
   ]
  },
  {
   "cell_type": "raw",
   "id": "e0eba029-8e5c-4d4d-8c6c-22d2b81f47c9",
   "metadata": {},
   "source": [
    "with open('results//fidelity_execution_time_1_1_3_1_main.pickle', 'wb') as handle:\n",
    "    pickle.dump(fidelity, handle, protocol=pickle.HIGHEST_PROTOCOL)"
   ]
  },
  {
   "cell_type": "raw",
   "id": "547c625e-676b-4365-add2-975b39e8ad82",
   "metadata": {},
   "source": [
    "header = ['bin', 'fidelity']\n",
    "with open('results//fidelity_execution_time_1_1_3_1_main.csv', 'w', encoding='UTF8') as f:\n",
    "    writer = csv.writer(f)\n",
    "    writer.writerow(header)\n",
    "    for i in range(len(res[0])):\n",
    "        writer.writerow([res[1][i], res[0][i]])"
   ]
  },
  {
   "cell_type": "markdown",
   "id": "256bda6f-ba24-4fc1-bfd8-d18558ae5d8d",
   "metadata": {},
   "source": [
    "## Engtangling capability"
   ]
  },
  {
   "cell_type": "markdown",
   "id": "2a8060d4-8d4c-4e59-81c4-641636d25e75",
   "metadata": {},
   "source": [
    "Meyer-Wallach entanglement measure for each circuit in the training data set."
   ]
  },
  {
   "cell_type": "code",
   "execution_count": null,
   "id": "370a270a-6ec4-47ca-994b-dc63f99e5aae",
   "metadata": {},
   "outputs": [],
   "source": [
    "def mw_engtanglement(circuits, sample_size):\n",
    "    engtanglement_values = {}\n",
    "    for i, c in enumerate(circuits):\n",
    "        print(\"Progress:\", i/len(circuits))\n",
    "        entropies = []\n",
    "        for i in range(sample_size):\n",
    "            entropy = 0\n",
    "            disco_circuit = circuits[c]\n",
    "            current_symbols = disco_circuit.free_symbols\n",
    "            params = torch.Tensor([[2*np.pi*random.uniform(0, 1)] for i in range(len(current_symbols))])\n",
    "            \n",
    "            qml_circuit = to_pennylane(disco_circuit)\n",
    "            \n",
    "            n_qubits = qml_circuit.n_qubits\n",
    "            qubit_list = list(range(n_qubits))\n",
    "            \n",
    "            subs_params = qml_circuit.param_substitution(symbols=current_symbols, weights=params)\n",
    "            qml_circuit = qml_circuit.make_circuit()\n",
    "            \n",
    "            state_vector = qml_circuit(subs_params).numpy()\n",
    "            state_vector = Statevector(state_vector)\n",
    "            \n",
    "            for j in range(n_qubits):\n",
    "                rest = qubit_list[:j] + qubit_list[j+1:]\n",
    "                dens = partial_trace(state_vector, rest).data       \n",
    "                trace = np.trace(np.matmul(dens, dens))\n",
    "                entropy += trace.real\n",
    "            entropy = entropy / n_qubits\n",
    "            entropies.append(1.0 - entropy)\n",
    "            \n",
    "        Q = 2*np.sum(entropies)/sample_size\n",
    "        print(\"Engtanglement:\", Q)\n",
    "        engtanglement_values[c] = Q\n",
    "    \n",
    "    return engtanglement_values"
   ]
  },
  {
   "cell_type": "code",
   "execution_count": null,
   "id": "1cc611e8-f85f-418e-b67b-f900f59d01ea",
   "metadata": {},
   "outputs": [],
   "source": [
    "res = mw_engtanglement(training_circuits, 10)"
   ]
  },
  {
   "cell_type": "raw",
   "id": "5e91a2a2-bb31-4348-b748-712dc9dda4f5",
   "metadata": {},
   "source": [
    "with open('results//mw_engtanglement_execution_time_1_1_3_1_main.pickle', 'wb') as handle:\n",
    "    pickle.dump(res, handle, protocol=pickle.HIGHEST_PROTOCOL)"
   ]
  },
  {
   "cell_type": "raw",
   "id": "8ed82ba0-0878-4279-9d70-8a72ba49dd45",
   "metadata": {},
   "source": [
    "res = {}\n",
    "with open('results//mw_engtanglement_execution_time_1_1_3_1_main.pickle', 'rb') as handle:\n",
    "    res = pickle.load(handle)\n",
    "    \n",
    "header = ['id', 'engtangling_capability']\n",
    "with open('results//mw_engtanglement_execution_time_1_1_3_1_main.csv', 'w', encoding='UTF8') as f:\n",
    "    writer = csv.writer(f)\n",
    "    writer.writerow(header)\n",
    "    for k in sorted([int(key) for key in res.keys()]):\n",
    "        writer.writerow([str(k), res[str(k)]])"
   ]
  },
  {
   "cell_type": "code",
   "execution_count": 22,
   "id": "e6ac60c3-9de3-4df6-9c6f-fe16ead08d31",
   "metadata": {},
   "outputs": [
    {
     "name": "stdout",
     "output_type": "stream",
     "text": [
      "0.5167863411758729\n"
     ]
    }
   ],
   "source": [
    "res = {}\n",
    "with open('results//mw_engtanglement_execution_time_1_1_3_1_main.pickle', 'rb') as handle:\n",
    "    res = pickle.load(handle)\n",
    "\n",
    "total = 0\n",
    "for k in res:\n",
    "    total += float(res[k])\n",
    "print(total/len(res))"
   ]
  }
 ],
 "metadata": {
  "kernelspec": {
   "display_name": "Python 3 (ipykernel)",
   "language": "python",
   "name": "python3"
  },
  "language_info": {
   "codemirror_mode": {
    "name": "ipython",
    "version": 3
   },
   "file_extension": ".py",
   "mimetype": "text/x-python",
   "name": "python",
   "nbconvert_exporter": "python",
   "pygments_lexer": "ipython3",
   "version": "3.8.10"
  }
 },
 "nbformat": 4,
 "nbformat_minor": 5
}
